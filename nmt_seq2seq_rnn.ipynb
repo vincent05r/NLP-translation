{
 "cells": [
  {
   "cell_type": "code",
   "execution_count": 1,
   "metadata": {},
   "outputs": [],
   "source": [
    "import numpy as np\n",
    "\n",
    "import typing\n",
    "from typing import Any, Tuple\n",
    "\n",
    "import einops\n",
    "import matplotlib.pyplot as plt\n",
    "import matplotlib.ticker as ticker\n",
    "\n",
    "import tensorflow as tf\n",
    "import tensorflow_text as tf_text\n",
    "\n",
    "import pathlib\n",
    "import os, sys\n"
   ]
  },
  {
   "cell_type": "code",
   "execution_count": 2,
   "metadata": {},
   "outputs": [],
   "source": [
    "# data download\n",
    "\n",
    "\n",
    "# path_2_zip = tf.keras.utils.get_file('spa-eng.zip', origin='http://storage.googleapis.com/download.tensorflow.org/data/spa-eng.zip',\n",
    "#     extract=True)\n",
    "\n",
    "# path_2_file = pathlib.Path(path_2_zip).parent/'spa-eng/spa.txt'\n",
    "\n",
    "# print(path_2_file)\n",
    "# print(path_2_zip)"
   ]
  },
  {
   "cell_type": "code",
   "execution_count": 3,
   "metadata": {},
   "outputs": [
    {
     "name": "stdout",
     "output_type": "stream",
     "text": [
      "F:\\program repo\\NLP-translation\\dataset\\spa.txt\n"
     ]
    }
   ],
   "source": [
    "#data path\n",
    "fileDir = os.path.dirname(os.path.realpath('__file__'))\n",
    "filename = pathlib.Path(os.path.join(fileDir, r\"dataset\\spa.txt\"))\n",
    "\n",
    "print(filename)"
   ]
  },
  {
   "cell_type": "code",
   "execution_count": 4,
   "metadata": {},
   "outputs": [],
   "source": [
    "def load_data(path):\n",
    "    text = path.read_text(encoding='utf-8')\n",
    "\n",
    "    lines = text.splitlines()\n",
    "    pairs = [line.split('\\t') for line in lines]\n",
    "\n",
    "    context = np.array([context for target, context in pairs])\n",
    "    target = np.array([target for target, context in pairs])\n",
    "\n",
    "    return target, context\n",
    "\n"
   ]
  },
  {
   "cell_type": "code",
   "execution_count": 5,
   "metadata": {},
   "outputs": [],
   "source": [
    "target_raw, context_raw = load_data(filename)"
   ]
  },
  {
   "cell_type": "code",
   "execution_count": 6,
   "metadata": {},
   "outputs": [
    {
     "name": "stdout",
     "output_type": "stream",
     "text": [
      "Go.\n",
      "Ve.\n"
     ]
    }
   ],
   "source": [
    "#check data\n",
    "print(target_raw[0])\n",
    "print(context_raw[0])"
   ]
  },
  {
   "cell_type": "code",
   "execution_count": 7,
   "metadata": {},
   "outputs": [],
   "source": [
    "#meta data\n",
    "\n",
    "max_vocab_size = 5000\n",
    "\n",
    "buffer_size = len(context_raw)\n",
    "batch_size = 64\n",
    "\n",
    "train_set_proportion = 0.8\n",
    "\n",
    "is_train = np.random.uniform(size=(len(target_raw), )) < train_set_proportion\n",
    "\n"
   ]
  },
  {
   "cell_type": "code",
   "execution_count": 8,
   "metadata": {},
   "outputs": [],
   "source": [
    "class ShapeChecker():\n",
    "    def __init__(self):\n",
    "        # Keep a cache of every axis-name seen\n",
    "        self.shapes = {}\n",
    "\n",
    "    def __call__(self, tensor, names, broadcast=False):\n",
    "        if not tf.executing_eagerly():\n",
    "            return\n",
    "\n",
    "        parsed = einops.parse_shape(tensor, names)\n",
    "\n",
    "        for name, new_dim in parsed.items():\n",
    "            old_dim = self.shapes.get(name, None)\n",
    "\n",
    "            if (broadcast and new_dim == 1):\n",
    "                continue\n",
    "\n",
    "            if old_dim is None:\n",
    "                # If the axis name is new, add its length to the cache.\n",
    "                self.shapes[name] = new_dim\n",
    "                continue\n",
    "\n",
    "            if new_dim != old_dim:\n",
    "                raise ValueError(f\"Shape mismatch for dimension: '{name}'\\n\"\n",
    "                                    f\"    found: {new_dim}\\n\"\n",
    "                                    f\"    expected: {old_dim}\\n\")"
   ]
  },
  {
   "cell_type": "code",
   "execution_count": 9,
   "metadata": {},
   "outputs": [],
   "source": [
    "#set up tf dataset\n",
    "train_set_raw = (\n",
    "    tf.data.Dataset.from_tensor_slices((context_raw[is_train], target_raw[is_train]))\n",
    "    .shuffle(buffer_size)\n",
    "    .batch(batch_size)\n",
    ")\n",
    "\n",
    "val_set_raw = (\n",
    "    tf.data.Dataset.from_tensor_slices((context_raw[~is_train], target_raw[~is_train]))\n",
    "    .shuffle(buffer_size)\n",
    "    .batch(batch_size)\n",
    ")"
   ]
  },
  {
   "cell_type": "code",
   "execution_count": 10,
   "metadata": {},
   "outputs": [
    {
     "name": "stdout",
     "output_type": "stream",
     "text": [
      "tf.Tensor(\n",
      "[b'Pronto ser\\xc3\\xa1 Navidad.'\n",
      " b'Tom llam\\xc3\\xb3 a Mary para disculparse, pero le colg\\xc3\\xb3.'\n",
      " b'Alguien tom\\xc3\\xb3 mis zapatos por error.'\n",
      " b'El perro sigui\\xc3\\xb3 a su amo, moviendo la cola.'\n",
      " b'Fui incapaz de mirarle a la cara.'\n",
      " b'Esta semana ha sido una maravillosa experiencia.'], shape=(6,), dtype=string)\n",
      "\n",
      "tf.Tensor(\n",
      "[b'Christmas is coming.'\n",
      " b'Tom called Mary to apologize to her, but she hung up on him.'\n",
      " b'Someone has taken my shoes by mistake.'\n",
      " b'The dog followed its master, wagging its tail.'\n",
      " b'I was unable to look her in the face.'\n",
      " b'This week has been an amazing experience.'], shape=(6,), dtype=string)\n"
     ]
    }
   ],
   "source": [
    "#data check\n",
    "\n",
    "for context_strings, target_strings in train_set_raw.take(1):\n",
    "    print(context_strings[:6])\n",
    "    print()\n",
    "    print(target_strings[:6])\n",
    "    break"
   ]
  },
  {
   "cell_type": "code",
   "execution_count": 11,
   "metadata": {},
   "outputs": [],
   "source": [
    "def tf_lower_and_split_punct(text):\n",
    "    #split accented characters\n",
    "    text = tf_text.normalize_utf8(text, 'NFKD') #NFKD is one of the normalization format defined in unicode convention\n",
    "    text = tf.strings.lower(text)\n",
    "    # Keep space, a to z, and select punctuation.\n",
    "    text = tf.strings.regex_replace(text, '[^ a-z.?!,¿]', '')\n",
    "    # Add spaces around punctuation.\n",
    "    text = tf.strings.regex_replace(text, '[.?!,¿]', r' \\0 ')\n",
    "    # Strip whitespace.\n",
    "    text = tf.strings.strip(text)\n",
    "\n",
    "    text = tf.strings.join(['[START]', text, '[END]'], separator=' ')\n",
    "    return text\n"
   ]
  },
  {
   "cell_type": "code",
   "execution_count": 12,
   "metadata": {},
   "outputs": [
    {
     "name": "stdout",
     "output_type": "stream",
     "text": [
      "b'\\xc2\\xbfTodav\\xc3\\xada est\\xc3\\xa1 en casa?'\n",
      "b'\\xc2\\xbfTodavi\\xcc\\x81a esta\\xcc\\x81 en casa?'\n",
      "¿Todavía está en casa?\n",
      "[START] ¿ todavia esta en casa ? [END]\n"
     ]
    }
   ],
   "source": [
    "#check\n",
    "\n",
    "example_text = tf.constant('¿Todavía está en casa?')\n",
    "\n",
    "print(example_text.numpy())\n",
    "print(tf_text.normalize_utf8(example_text, 'NFKD').numpy())\n",
    "\n",
    "print(example_text.numpy().decode())\n",
    "\n",
    "print(tf_lower_and_split_punct(example_text).numpy().decode())"
   ]
  },
  {
   "cell_type": "code",
   "execution_count": 13,
   "metadata": {},
   "outputs": [],
   "source": [
    "#Text vectoriazation\n",
    "\n",
    "context_text_preprocessor = tf.keras.layers.TextVectorization(\n",
    "    standardize=tf_lower_and_split_punct,\n",
    "    max_tokens=max_vocab_size,\n",
    "    ragged=True\n",
    ")"
   ]
  },
  {
   "cell_type": "code",
   "execution_count": 14,
   "metadata": {},
   "outputs": [],
   "source": [
    "context_text_preprocessor.adapt(train_set_raw.map(lambda context, target: context))"
   ]
  },
  {
   "cell_type": "code",
   "execution_count": 15,
   "metadata": {},
   "outputs": [
    {
     "data": {
      "text/plain": [
       "['',\n",
       " '[UNK]',\n",
       " '[START]',\n",
       " '[END]',\n",
       " '.',\n",
       " 'que',\n",
       " 'de',\n",
       " 'el',\n",
       " 'a',\n",
       " 'no',\n",
       " 'tom',\n",
       " 'la',\n",
       " '?',\n",
       " '¿',\n",
       " 'en']"
      ]
     },
     "execution_count": 15,
     "metadata": {},
     "output_type": "execute_result"
    }
   ],
   "source": [
    "#output check\n",
    "context_text_preprocessor.get_vocabulary()[:15]"
   ]
  },
  {
   "cell_type": "code",
   "execution_count": 16,
   "metadata": {},
   "outputs": [],
   "source": [
    "target_text_preprocessor = tf.keras.layers.TextVectorization(\n",
    "    standardize=tf_lower_and_split_punct,\n",
    "    max_tokens=max_vocab_size,\n",
    "    ragged=True\n",
    ")\n",
    "\n"
   ]
  },
  {
   "cell_type": "code",
   "execution_count": 17,
   "metadata": {},
   "outputs": [],
   "source": [
    "target_text_preprocessor.adapt(train_set_raw.map(lambda context, target: target))"
   ]
  },
  {
   "cell_type": "code",
   "execution_count": 18,
   "metadata": {},
   "outputs": [
    {
     "data": {
      "text/plain": [
       "['', '[UNK]', '[START]', '[END]', '.', 'the', 'i', 'to', 'you', 'tom']"
      ]
     },
     "execution_count": 18,
     "metadata": {},
     "output_type": "execute_result"
    }
   ],
   "source": [
    "#output check\n",
    "target_text_preprocessor.get_vocabulary()[:10]"
   ]
  },
  {
   "cell_type": "code",
   "execution_count": 19,
   "metadata": {},
   "outputs": [
    {
     "name": "stdout",
     "output_type": "stream",
     "text": [
      "<tf.RaggedTensor [[2, 216, 362, 496, 4, 3],\n",
      " [2, 10, 591, 8, 32, 31, 1, 19, 96, 28, 2470, 4, 3],\n",
      " [2, 153, 453, 126, 384, 21, 383, 4, 3]]>\n"
     ]
    }
   ],
   "source": [
    "example_tokens = context_text_preprocessor(context_strings)\n",
    "print(example_tokens[ : 3])"
   ]
  },
  {
   "cell_type": "code",
   "execution_count": 20,
   "metadata": {},
   "outputs": [
    {
     "name": "stdout",
     "output_type": "stream",
     "text": [
      "[START] pronto sera navidad . [END]\n",
      "[START] christmas is coming . [END]\n"
     ]
    }
   ],
   "source": [
    "#convert token value back to words\n",
    "\n",
    "context_vocab = np.array(context_text_preprocessor.get_vocabulary())\n",
    "tokens = context_vocab[example_tokens[0].numpy()]\n",
    "print(' '.join(tokens))\n",
    "\n",
    "\n",
    "target_vocab = np.array(target_text_preprocessor.get_vocabulary())\n",
    "tk2 = target_vocab[target_text_preprocessor(target_strings)[0].numpy()]\n",
    "print(' '.join(tk2))"
   ]
  },
  {
   "cell_type": "code",
   "execution_count": 21,
   "metadata": {},
   "outputs": [
    {
     "data": {
      "text/plain": [
       "Text(0.5, 1.0, 'Mask')"
      ]
     },
     "execution_count": 21,
     "metadata": {},
     "output_type": "execute_result"
    },
    {
     "data": {
      "image/png": "[encoded data removed]",
      "text/plain": [
       "<Figure size 640x480 with 2 Axes>"
      ]
     },
     "metadata": {},
     "output_type": "display_data"
    }
   ],
   "source": [
    "# visualization\n",
    "\n",
    "plt.subplot(1, 2, 1)\n",
    "plt.pcolormesh(example_tokens.to_tensor())\n",
    "plt.title('Token IDs')\n",
    "\n",
    "plt.subplot(1, 2, 2)\n",
    "plt.pcolormesh(example_tokens.to_tensor() != 0)\n",
    "plt.title('Mask')"
   ]
  },
  {
   "cell_type": "code",
   "execution_count": 22,
   "metadata": {},
   "outputs": [],
   "source": [
    "def process_text(context, target):\n",
    "    context = context_text_preprocessor(context).to_tensor()\n",
    "    target = target_text_preprocessor(target)\n",
    "    targ_in = target[:,:-1].to_tensor()\n",
    "    targ_out = target[:,1:].to_tensor()\n",
    "    return (context, targ_in), targ_out\n",
    "\n",
    "train_ds = train_set_raw.map(process_text, tf.data.AUTOTUNE)\n",
    "val_ds = val_set_raw.map(process_text, tf.data.AUTOTUNE)"
   ]
  },
  {
   "cell_type": "code",
   "execution_count": 23,
   "metadata": {},
   "outputs": [
    {
     "name": "stdout",
     "output_type": "stream",
     "text": [
      "[  2  94 117   8 347  14 133 297   4   3]\n",
      "\n",
      "[  2   9  49  35 118  14 156 374   4   0]\n",
      "[  9  49  35 118  14 156 374   4   3   0]\n"
     ]
    }
   ],
   "source": [
    "for (ex_context_tok, ex_tar_in), ex_tar_out in train_ds.take(1):\n",
    "  print(ex_context_tok[0, :10].numpy()) \n",
    "  print()\n",
    "  print(ex_tar_in[0, :10].numpy()) \n",
    "  print(ex_tar_out[0, :10].numpy())"
   ]
  },
  {
   "cell_type": "code",
   "execution_count": null,
   "metadata": {},
   "outputs": [],
   "source": []
  },
  {
   "cell_type": "markdown",
   "metadata": {},
   "source": [
    "# ENCODER"
   ]
  },
  {
   "cell_type": "code",
   "execution_count": 54,
   "metadata": {},
   "outputs": [],
   "source": [
    "units = 256 #units of the rnn layer (256 is good enough for this dataset, 1024)"
   ]
  },
  {
   "cell_type": "code",
   "execution_count": 25,
   "metadata": {},
   "outputs": [],
   "source": [
    "class Encoder(tf.keras.layers.Layer):\n",
    "    def __init__(self, text_preprocessor, units):\n",
    "        super(Encoder, self).__init__()\n",
    "        self.text_preprocessor = text_preprocessor\n",
    "        self.vocab_size = text_preprocessor.vocabulary_size()\n",
    "        self.units = units\n",
    "    \n",
    "\n",
    "        # The embedding layer converts tokens to vectors\n",
    "        self.embedding = tf.keras.layers.Embedding(self.vocab_size, units, mask_zero=True)\n",
    "\n",
    "        # The RNN layer processes those vectors sequentially.\n",
    "\n",
    "        # self.rnn = tf.keras.layers.LSTM(\n",
    "        #     units,\n",
    "        #     return_sequences=True,\n",
    "        #     recurrent_initializer='glorot_uniform'\n",
    "        # )\n",
    "\n",
    "        self.rnn = tf.keras.layers.Bidirectional(\n",
    "            layer=tf.keras.layers.GRU(\n",
    "                units,\n",
    "                return_sequences=True,\n",
    "                recurrent_initializer='glorot_uniform'\n",
    "            )\n",
    "        )\n",
    "\n",
    "\n",
    "    def call(self, x):\n",
    "        # shape_checker = ShapeChecker() \n",
    "        # shape_checker(x, 'batch s')\n",
    "\n",
    "        # 2. The embedding layer looks up the embedding vector for each token.\n",
    "        x = self.embedding(x)\n",
    "        # shape_checker(x, 'batch s units embedding')\n",
    "\n",
    "        # 3. The GRU processes the sequence of embeddings.\n",
    "        x = self.rnn(x)\n",
    "        # shape_checker(x, 'batch s units rnn')\n",
    "\n",
    "        # 4. Returns the new sequence of embeddings.\n",
    "        return x\n",
    "\n",
    "    def convert_input(self, texts):\n",
    "        texts = tf.convert_to_tensor(texts)\n",
    "\n",
    "        if len(texts.shape) == 0:\n",
    "            texts = tf.convert_to_tensor(texts)[tf.newaxis]\n",
    "        context = self.text_preprocessor(texts).to_tensor()\n",
    "        context = self(context)\n",
    "        return context"
   ]
  },
  {
   "cell_type": "code",
   "execution_count": 26,
   "metadata": {},
   "outputs": [
    {
     "name": "stdout",
     "output_type": "stream",
     "text": [
      "Context tokens, shape (batch, s): (64, 19)\n",
      "Encoder output, shape (batch, s, units): (64, 19, 2048)\n"
     ]
    }
   ],
   "source": [
    "#testing\n",
    "\n",
    "encoder = Encoder(context_text_preprocessor, units)\n",
    "ex_context = encoder(ex_context_tok)\n",
    "\n",
    "print(f'Context tokens, shape (batch, s): {ex_context_tok.shape}')\n",
    "print(f'Encoder output, shape (batch, s, units): {ex_context.shape}')"
   ]
  },
  {
   "cell_type": "code",
   "execution_count": 27,
   "metadata": {},
   "outputs": [],
   "source": [
    "class CrossAttention(tf.keras.layers.Layer):\n",
    "    def __init__(self, units, **kwargs):\n",
    "        super().__init__()\n",
    "        self.mha = tf.keras.layers.MultiHeadAttention(key_dim=units, num_heads=1, **kwargs)\n",
    "        self.layernorm = tf.keras.layers.LayerNormalization()\n",
    "        self.add = tf.keras.layers.Add()\n",
    "\n",
    "    def call(self, x, context):\n",
    "\n",
    "        attn_output, attn_scores = self.mha(\n",
    "            query=x,\n",
    "            value=context,\n",
    "            return_attention_scores=True)\n",
    "\n",
    "        # Cache the attention scores for plotting later.\n",
    "        attn_scores = tf.reduce_mean(attn_scores, axis=1)\n",
    "\n",
    "        self.last_attention_weights = attn_scores\n",
    "\n",
    "        x = self.add([x, attn_output])\n",
    "        x = self.layernorm(x)\n",
    "\n",
    "        return x\n",
    "        \n",
    "        "
   ]
  },
  {
   "cell_type": "code",
   "execution_count": 28,
   "metadata": {},
   "outputs": [
    {
     "name": "stdout",
     "output_type": "stream",
     "text": [
      "Context sequence, shape (batch, s, units): (64, 19, 2048)\n",
      "Target sequence, shape (batch, t, units): (64, 15, 1024)\n",
      "Attention result, shape (batch, t, units): (64, 15, 1024)\n",
      "Attention weights, shape (batch, t, s):    (64, 15, 19)\n"
     ]
    }
   ],
   "source": [
    "attention_layer = CrossAttention(units)\n",
    "\n",
    "# Attend to the encoded tokens\n",
    "embed = tf.keras.layers.Embedding(target_text_preprocessor.vocabulary_size(),\n",
    "                                  output_dim=units, mask_zero=True)\n",
    "\n",
    "\n",
    "ex_tar_embed = embed(ex_tar_in)\n",
    "\n",
    "result = attention_layer(ex_tar_embed, ex_context)\n",
    "\n",
    "print(f'Context sequence, shape (batch, s, units): {ex_context.shape}')\n",
    "print(f'Target sequence, shape (batch, t, units): {ex_tar_embed.shape}')\n",
    "print(f'Attention result, shape (batch, t, units): {result.shape}')\n",
    "print(f'Attention weights, shape (batch, t, s):    {attention_layer.last_attention_weights.shape}')"
   ]
  },
  {
   "cell_type": "code",
   "execution_count": 29,
   "metadata": {},
   "outputs": [
    {
     "data": {
      "text/plain": [
       "array([1.        , 0.99999994, 1.        , 1.        , 1.        ,\n",
       "       1.        , 0.9999999 , 1.        , 1.        , 0.99999994,\n",
       "       0.99999994, 0.99999994, 0.99999994, 0.99999994, 0.99999994],\n",
       "      dtype=float32)"
      ]
     },
     "execution_count": 29,
     "metadata": {},
     "output_type": "execute_result"
    }
   ],
   "source": [
    "#check attention layer sum, \n",
    "# The attention weights will sum to 1 over the context sequence, at each location in the target sequence.\n",
    "attention_layer.last_attention_weights[0].numpy().sum(axis=-1)"
   ]
  },
  {
   "cell_type": "code",
   "execution_count": 30,
   "metadata": {},
   "outputs": [
    {
     "data": {
      "image/png": "[encoded data removed]",
      "text/plain": [
       "<Figure size 640x480 with 2 Axes>"
      ]
     },
     "metadata": {},
     "output_type": "display_data"
    }
   ],
   "source": [
    "# plot attention weight\n",
    "attention_weights = attention_layer.last_attention_weights\n",
    "mask=(ex_context_tok != 0).numpy()\n",
    "\n",
    "plt.subplot(1, 2, 1)\n",
    "plt.pcolormesh(mask*attention_weights[:, 0, :])\n",
    "plt.title('Attention weights')\n",
    "\n",
    "plt.subplot(1, 2, 2)\n",
    "plt.pcolormesh(mask)\n",
    "plt.title('Mask');"
   ]
  },
  {
   "cell_type": "code",
   "execution_count": 31,
   "metadata": {},
   "outputs": [],
   "source": [
    "class Decoder(tf.keras.layers.Layer):\n",
    "    @classmethod\n",
    "    def add_method(cls, fun):\n",
    "        setattr(cls, fun.__name__, fun)\n",
    "        return fun\n",
    "\n",
    "    def __init__(self, text_processor, units):\n",
    "        super(Decoder, self).__init__()\n",
    "        self.text_processor = text_processor\n",
    "        self.vocab_size = text_processor.vocabulary_size()\n",
    "        self.word_to_id = tf.keras.layers.StringLookup(\n",
    "            vocabulary=text_processor.get_vocabulary(),\n",
    "            mask_token='', oov_token='[UNK]')\n",
    "        self.id_to_word = tf.keras.layers.StringLookup(\n",
    "            vocabulary=text_processor.get_vocabulary(),\n",
    "            mask_token='', oov_token='[UNK]',\n",
    "            invert=True)\n",
    "        self.start_token = self.word_to_id('[START]')\n",
    "        self.end_token = self.word_to_id('[END]')\n",
    "\n",
    "        self.units = units\n",
    "\n",
    "        # 1. The embedding layer converts token IDs to vectors\n",
    "        self.embedding = tf.keras.layers.Embedding(self.vocab_size,\n",
    "                                                units, mask_zero=True)\n",
    "\n",
    "        # 2. The RNN keeps track of what's been generated so far.\n",
    "        self.rnn = tf.keras.layers.GRU(units,\n",
    "                                    return_sequences=True,\n",
    "                                    return_state=True,\n",
    "                                    recurrent_initializer='glorot_uniform')\n",
    "\n",
    "        # 3. The RNN output will be the query for the attention layer.\n",
    "        self.attention = CrossAttention(units)\n",
    "\n",
    "        # 4. This fully connected layer produces the logits for each\n",
    "        # output token.\n",
    "        self.output_layer = tf.keras.layers.Dense(self.vocab_size)\n"
   ]
  },
  {
   "cell_type": "code",
   "execution_count": 32,
   "metadata": {},
   "outputs": [],
   "source": [
    "@Decoder.add_method\n",
    "def call(self,\n",
    "            context, x,\n",
    "            state=None,\n",
    "            return_state=False):  \n",
    "    # shape_checker = ShapeChecker()\n",
    "    # shape_checker(x, 'batch t')\n",
    "    # shape_checker(context, 'batch s units')\n",
    "\n",
    "    # 1. Lookup the embeddings\n",
    "    x = self.embedding(x)\n",
    "    # shape_checker(x, 'batch t units')\n",
    "\n",
    "    # 2. Process the target sequence.\n",
    "    x, state = self.rnn(x, initial_state=state)\n",
    "    # shape_checker(x, 'batch t units')\n",
    "\n",
    "    # 3. Use the RNN output as the query for the attention over the context.\n",
    "    x = self.attention(x, context)\n",
    "    self.last_attention_weights = self.attention.last_attention_weights\n",
    "    # shape_checker(x, 'batch t units')\n",
    "    # shape_checker(self.last_attention_weights, 'batch t s')\n",
    "\n",
    "    # Step 4. Generate logit predictions for the next token.\n",
    "    logits = self.output_layer(x)\n",
    "    # shape_checker(logits, 'batch t target_vocab_size')\n",
    "\n",
    "    if return_state:\n",
    "        return logits, state\n",
    "    else:\n",
    "        return logits"
   ]
  },
  {
   "cell_type": "code",
   "execution_count": 33,
   "metadata": {},
   "outputs": [],
   "source": [
    "decoder = Decoder(target_text_preprocessor, units)"
   ]
  },
  {
   "cell_type": "code",
   "execution_count": 34,
   "metadata": {},
   "outputs": [
    {
     "name": "stdout",
     "output_type": "stream",
     "text": [
      "encoder output shape: (batch, s, units) (64, 19, 2048)\n",
      "input target tokens shape: (batch, t) (64, 15)\n",
      "logits shape shape: (batch, target_vocabulary_size) (64, 15, 5000)\n"
     ]
    }
   ],
   "source": [
    "logits = decoder(ex_context, ex_tar_in)\n",
    "\n",
    "print(f'encoder output shape: (batch, s, units) {ex_context.shape}')\n",
    "print(f'input target tokens shape: (batch, t) {ex_tar_in.shape}')\n",
    "print(f'logits shape shape: (batch, target_vocabulary_size) {logits.shape}')"
   ]
  },
  {
   "cell_type": "code",
   "execution_count": 35,
   "metadata": {},
   "outputs": [],
   "source": [
    "@Decoder.add_method\n",
    "def get_initial_state(self, context):\n",
    "    batch_size = tf.shape(context)[0]\n",
    "    start_tokens = tf.fill([batch_size, 1], self.start_token)\n",
    "    done = tf.zeros([batch_size, 1], dtype=tf.bool)\n",
    "    embedded = self.embedding(start_tokens)\n",
    "    return start_tokens, done, self.rnn.get_initial_state(embedded)[0]"
   ]
  },
  {
   "cell_type": "code",
   "execution_count": 36,
   "metadata": {},
   "outputs": [],
   "source": [
    "@Decoder.add_method\n",
    "def tokens_to_text(self, tokens):\n",
    "    words = self.id_to_word(tokens)\n",
    "    result = tf.strings.reduce_join(words, axis=-1, separator=' ')\n",
    "    result = tf.strings.regex_replace(result, '^ *\\[START\\] *', '')\n",
    "    result = tf.strings.regex_replace(result, ' *\\[END\\] *$', '')\n",
    "    return result"
   ]
  },
  {
   "cell_type": "code",
   "execution_count": 37,
   "metadata": {},
   "outputs": [],
   "source": [
    "@Decoder.add_method\n",
    "def get_next_token(self, context, next_token, done, state, temperature = 0.0):\n",
    "    logits, state = self(\n",
    "        context, next_token,\n",
    "        state = state,\n",
    "        return_state=True) \n",
    "\n",
    "    if temperature == 0.0:\n",
    "        next_token = tf.argmax(logits, axis=-1)\n",
    "    else:\n",
    "        logits = logits[:, -1, :]/temperature\n",
    "        next_token = tf.random.categorical(logits, num_samples=1)\n",
    "\n",
    "    # If a sequence produces an `end_token`, set it `done`\n",
    "    done = done | (next_token == self.end_token)\n",
    "    # Once a sequence is done it only produces 0-padding.\n",
    "    next_token = tf.where(done, tf.constant(0, dtype=tf.int64), next_token)\n",
    "\n",
    "    return next_token, done, state"
   ]
  },
  {
   "cell_type": "code",
   "execution_count": 38,
   "metadata": {},
   "outputs": [
    {
     "data": {
      "text/plain": [
       "array([b'practically guests feeding beggar founded cure laughter handy christians occurred',\n",
       "       b'orange surface baffled intentionally spouse reservation action visiting tend telescope',\n",
       "       b'jesus unattended chips temporary apologized decide back appropriate succeeded bones'],\n",
       "      dtype=object)"
      ]
     },
     "execution_count": 38,
     "metadata": {},
     "output_type": "execute_result"
    }
   ],
   "source": [
    "# Setup the loop variables.\n",
    "next_token, done, state = decoder.get_initial_state(ex_context)\n",
    "tokens = []\n",
    "\n",
    "for n in range(10):\n",
    "    # Run one step.\n",
    "    next_token, done, state = decoder.get_next_token(\n",
    "        ex_context, next_token, done, state, temperature=1.0)\n",
    "    # Add the token to the output.\n",
    "    tokens.append(next_token)\n",
    "\n",
    "# Stack all the tokens together.\n",
    "tokens = tf.concat(tokens, axis=-1) # (batch, t)\n",
    "\n",
    "# Convert the tokens back to a a string\n",
    "result = decoder.tokens_to_text(tokens)\n",
    "result[:3].numpy()"
   ]
  },
  {
   "cell_type": "code",
   "execution_count": 39,
   "metadata": {},
   "outputs": [],
   "source": [
    "class Translator(tf.keras.Model):\n",
    "    @classmethod\n",
    "    def add_method(cls, fun):\n",
    "        setattr(cls, fun.__name__, fun)\n",
    "        return fun\n",
    "\n",
    "    def __init__(self, units,\n",
    "                context_text_processor,\n",
    "                target_text_processor):\n",
    "        super().__init__()\n",
    "        # Build the encoder and decoder\n",
    "        encoder = Encoder(context_text_processor, units)\n",
    "        decoder = Decoder(target_text_processor, units)\n",
    "\n",
    "        self.encoder = encoder\n",
    "        self.decoder = decoder\n",
    "\n",
    "    def call(self, inputs):\n",
    "        context, x = inputs\n",
    "        context = self.encoder(context)\n",
    "        logits = self.decoder(context, x)\n",
    "\n",
    "        try:\n",
    "            # Delete the keras mask, so keras doesn't scale the loss+accuracy. \n",
    "            del logits._keras_mask\n",
    "        except AttributeError:\n",
    "            pass\n",
    "\n",
    "        return logits"
   ]
  },
  {
   "cell_type": "code",
   "execution_count": 40,
   "metadata": {},
   "outputs": [],
   "source": [
    "#translator inference method\n",
    "@Translator.add_method\n",
    "def translate(self,\n",
    "                texts, *,\n",
    "                max_length=50,\n",
    "                temperature=0.0):\n",
    "    # Process the input texts\n",
    "    context = self.encoder.convert_input(texts)\n",
    "    batch_size = tf.shape(texts)[0]\n",
    "\n",
    "    # Setup the loop inputs\n",
    "    tokens = []\n",
    "    attention_weights = []\n",
    "    next_token, done, state = self.decoder.get_initial_state(context)\n",
    "\n",
    "    for _ in range(max_length):\n",
    "        # Generate the next token\n",
    "        next_token, done, state = self.decoder.get_next_token(\n",
    "            context, next_token, done,  state, temperature)\n",
    "\n",
    "        # Collect the generated tokens\n",
    "        tokens.append(next_token)\n",
    "        attention_weights.append(self.decoder.last_attention_weights)\n",
    "\n",
    "        if tf.executing_eagerly() and tf.reduce_all(done):\n",
    "            break\n",
    "\n",
    "    # Stack the lists of tokens and attention weights.\n",
    "    tokens = tf.concat(tokens, axis=-1)   # t*[(batch 1)] -> (batch, t)\n",
    "    self.last_attention_weights = tf.concat(attention_weights, axis=1)  # t*[(batch 1 s)] -> (batch, t s)\n",
    "\n",
    "    result = self.decoder.tokens_to_text(tokens)\n",
    "    return result"
   ]
  },
  {
   "cell_type": "code",
   "execution_count": 41,
   "metadata": {},
   "outputs": [],
   "source": [
    "#Use that to generate the attention plot:\n",
    "@Translator.add_method\n",
    "def plot_attention(self, text, **kwargs):\n",
    "    assert isinstance(text, str)\n",
    "    output = self.translate([text], **kwargs)\n",
    "    output = output[0].numpy().decode()\n",
    "\n",
    "    attention = self.last_attention_weights[0]\n",
    "\n",
    "    context = tf_lower_and_split_punct(text)\n",
    "    context = context.numpy().decode().split()\n",
    "\n",
    "    output = tf_lower_and_split_punct(output)\n",
    "    output = output.numpy().decode().split()[1:]\n",
    "\n",
    "    fig = plt.figure(figsize=(10, 10))\n",
    "    ax = fig.add_subplot(1, 1, 1)\n",
    "\n",
    "    ax.matshow(attention, cmap='viridis', vmin=0.0)\n",
    "\n",
    "    fontdict = {'fontsize': 14}\n",
    "\n",
    "    ax.set_xticklabels([''] + context, fontdict=fontdict, rotation=90)\n",
    "    ax.set_yticklabels([''] + output, fontdict=fontdict)\n",
    "\n",
    "    ax.xaxis.set_major_locator(ticker.MultipleLocator(1))\n",
    "    ax.yaxis.set_major_locator(ticker.MultipleLocator(1))\n",
    "\n",
    "    ax.set_xlabel('Input text')\n",
    "    ax.set_ylabel('Output text')"
   ]
  },
  {
   "cell_type": "code",
   "execution_count": 42,
   "metadata": {},
   "outputs": [
    {
     "name": "stdout",
     "output_type": "stream",
     "text": [
      "Context tokens, shape: (batch, s, units) (64, 19)\n",
      "Target tokens, shape: (batch, t) (64, 15)\n",
      "logits, shape: (batch, t, target_vocabulary_size) (64, 15, 5000)\n"
     ]
    }
   ],
   "source": [
    "#training precheck\n",
    "model = Translator(units, context_text_preprocessor, target_text_preprocessor)\n",
    "\n",
    "logits = model((ex_context_tok, ex_tar_in))\n",
    "\n",
    "print(f'Context tokens, shape: (batch, s, units) {ex_context_tok.shape}')\n",
    "print(f'Target tokens, shape: (batch, t) {ex_tar_in.shape}')\n",
    "print(f'logits, shape: (batch, t, target_vocabulary_size) {logits.shape}')"
   ]
  },
  {
   "cell_type": "code",
   "execution_count": 43,
   "metadata": {},
   "outputs": [],
   "source": [
    "def masked_loss(y_true, y_pred):\n",
    "    # Calculate the loss for each item in the batch.\n",
    "    loss_fn = tf.keras.losses.SparseCategoricalCrossentropy(\n",
    "        from_logits=True, reduction='none')\n",
    "    loss = loss_fn(y_true, y_pred)\n",
    "\n",
    "    # Mask off the losses on padding.\n",
    "    mask = tf.cast(y_true != 0, loss.dtype)\n",
    "    loss *= mask\n",
    "\n",
    "    # Return the total.\n",
    "    return tf.reduce_sum(loss)/tf.reduce_sum(mask)"
   ]
  },
  {
   "cell_type": "code",
   "execution_count": 44,
   "metadata": {},
   "outputs": [],
   "source": [
    "def masked_acc(y_true, y_pred):\n",
    "    # Calculate the loss for each item in the batch.\n",
    "    y_pred = tf.argmax(y_pred, axis=-1)\n",
    "    y_pred = tf.cast(y_pred, y_true.dtype)\n",
    "\n",
    "    match = tf.cast(y_true == y_pred, tf.float32)\n",
    "    mask = tf.cast(y_true != 0, tf.float32)\n",
    "\n",
    "    return tf.reduce_sum(match)/tf.reduce_sum(mask)"
   ]
  },
  {
   "cell_type": "code",
   "execution_count": 45,
   "metadata": {},
   "outputs": [],
   "source": [
    "model.compile(optimizer='adam',\n",
    "              loss=masked_loss, \n",
    "              metrics=[masked_acc, masked_loss])"
   ]
  },
  {
   "attachments": {},
   "cell_type": "markdown",
   "metadata": {},
   "source": [
    "## Training precheck"
   ]
  },
  {
   "cell_type": "code",
   "execution_count": 46,
   "metadata": {},
   "outputs": [
    {
     "data": {
      "text/plain": [
       "{'expected_loss': 8.517193, 'expected_acc': 0.0002}"
      ]
     },
     "execution_count": 46,
     "metadata": {},
     "output_type": "execute_result"
    }
   ],
   "source": [
    "vocab_size = 1.0 * target_text_preprocessor.vocabulary_size()\n",
    "\n",
    "{\"expected_loss\": tf.math.log(vocab_size).numpy(),\n",
    " \"expected_acc\": 1/vocab_size}"
   ]
  },
  {
   "cell_type": "code",
   "execution_count": 47,
   "metadata": {},
   "outputs": [
    {
     "name": "stdout",
     "output_type": "stream",
     "text": [
      "20/20 [==============================] - 4s 19ms/step - loss: 8.5389 - masked_acc: 9.1408e-05 - masked_loss: 8.5389\n"
     ]
    },
    {
     "data": {
      "text/plain": [
       "{'loss': 8.538928031921387,\n",
       " 'masked_acc': 9.140768088400364e-05,\n",
       " 'masked_loss': 8.538928031921387}"
      ]
     },
     "execution_count": 47,
     "metadata": {},
     "output_type": "execute_result"
    }
   ],
   "source": [
    "model.evaluate(val_ds, steps=20, return_dict=True)"
   ]
  },
  {
   "cell_type": "code",
   "execution_count": 48,
   "metadata": {},
   "outputs": [
    {
     "name": "stdout",
     "output_type": "stream",
     "text": [
      "Epoch 1/100\n",
      "100/100 [==============================] - 11s 43ms/step - loss: 4.1168 - masked_acc: 0.3760 - masked_loss: 4.1168 - val_loss: 3.2536 - val_masked_acc: 0.4653 - val_masked_loss: 3.2536\n",
      "Epoch 2/100\n",
      "100/100 [==============================] - 4s 39ms/step - loss: 2.9070 - masked_acc: 0.5110 - masked_loss: 2.9070 - val_loss: 2.5589 - val_masked_acc: 0.5502 - val_masked_loss: 2.5589\n",
      "Epoch 3/100\n",
      "100/100 [==============================] - 4s 40ms/step - loss: 2.4334 - masked_acc: 0.5743 - masked_loss: 2.4334 - val_loss: 2.3104 - val_masked_acc: 0.5962 - val_masked_loss: 2.3104\n",
      "Epoch 4/100\n",
      "100/100 [==============================] - 4s 40ms/step - loss: 2.1388 - masked_acc: 0.6174 - masked_loss: 2.1388 - val_loss: 2.0180 - val_masked_acc: 0.6316 - val_masked_loss: 2.0180\n",
      "Epoch 5/100\n",
      "100/100 [==============================] - 4s 41ms/step - loss: 1.9459 - masked_acc: 0.6442 - masked_loss: 1.9459 - val_loss: 1.8496 - val_masked_acc: 0.6518 - val_masked_loss: 1.8496\n",
      "Epoch 6/100\n",
      "100/100 [==============================] - 4s 40ms/step - loss: 1.8140 - masked_acc: 0.6633 - masked_loss: 1.8140 - val_loss: 1.7227 - val_masked_acc: 0.6716 - val_masked_loss: 1.7227\n",
      "Epoch 7/100\n",
      "100/100 [==============================] - 4s 39ms/step - loss: 1.6947 - masked_acc: 0.6779 - masked_loss: 1.6947 - val_loss: 1.6391 - val_masked_acc: 0.6839 - val_masked_loss: 1.6391\n",
      "Epoch 8/100\n",
      "100/100 [==============================] - 4s 39ms/step - loss: 1.6296 - masked_acc: 0.6861 - masked_loss: 1.6296 - val_loss: 1.5244 - val_masked_acc: 0.7037 - val_masked_loss: 1.5244\n",
      "Epoch 9/100\n",
      "100/100 [==============================] - 4s 39ms/step - loss: 1.5560 - masked_acc: 0.6983 - masked_loss: 1.5560 - val_loss: 1.4649 - val_masked_acc: 0.7052 - val_masked_loss: 1.4649\n",
      "Epoch 10/100\n",
      "100/100 [==============================] - 4s 40ms/step - loss: 1.5165 - masked_acc: 0.7008 - masked_loss: 1.5165 - val_loss: 1.5196 - val_masked_acc: 0.7028 - val_masked_loss: 1.5196\n",
      "Epoch 11/100\n",
      "100/100 [==============================] - 4s 39ms/step - loss: 1.4700 - masked_acc: 0.7106 - masked_loss: 1.4700 - val_loss: 1.4550 - val_masked_acc: 0.7164 - val_masked_loss: 1.4550\n",
      "Epoch 12/100\n",
      "100/100 [==============================] - 4s 39ms/step - loss: 1.4171 - masked_acc: 0.7186 - masked_loss: 1.4171 - val_loss: 1.3764 - val_masked_acc: 0.7237 - val_masked_loss: 1.3764\n",
      "Epoch 13/100\n",
      "100/100 [==============================] - 4s 40ms/step - loss: 1.3593 - masked_acc: 0.7265 - masked_loss: 1.3593 - val_loss: 1.3368 - val_masked_acc: 0.7300 - val_masked_loss: 1.3368\n",
      "Epoch 14/100\n",
      "100/100 [==============================] - 4s 40ms/step - loss: 1.3612 - masked_acc: 0.7258 - masked_loss: 1.3612 - val_loss: 1.3403 - val_masked_acc: 0.7281 - val_masked_loss: 1.3403\n",
      "Epoch 15/100\n",
      "100/100 [==============================] - 4s 40ms/step - loss: 1.2945 - masked_acc: 0.7344 - masked_loss: 1.2912 - val_loss: 1.3159 - val_masked_acc: 0.7292 - val_masked_loss: 1.3159\n",
      "Epoch 16/100\n",
      "100/100 [==============================] - 4s 39ms/step - loss: 1.0609 - masked_acc: 0.7652 - masked_loss: 1.0609 - val_loss: 1.3016 - val_masked_acc: 0.7403 - val_masked_loss: 1.3016\n",
      "Epoch 17/100\n",
      "100/100 [==============================] - 4s 39ms/step - loss: 1.0867 - masked_acc: 0.7601 - masked_loss: 1.0867 - val_loss: 1.3091 - val_masked_acc: 0.7371 - val_masked_loss: 1.3091\n",
      "Epoch 18/100\n",
      "100/100 [==============================] - 4s 40ms/step - loss: 1.0705 - masked_acc: 0.7622 - masked_loss: 1.0705 - val_loss: 1.2903 - val_masked_acc: 0.7385 - val_masked_loss: 1.2903\n",
      "Epoch 19/100\n",
      "100/100 [==============================] - 4s 42ms/step - loss: 1.1052 - masked_acc: 0.7586 - masked_loss: 1.1052 - val_loss: 1.2657 - val_masked_acc: 0.7413 - val_masked_loss: 1.2657\n",
      "Epoch 20/100\n",
      "100/100 [==============================] - 4s 42ms/step - loss: 1.0737 - masked_acc: 0.7651 - masked_loss: 1.0737 - val_loss: 1.2139 - val_masked_acc: 0.7520 - val_masked_loss: 1.2139\n",
      "Epoch 21/100\n",
      "100/100 [==============================] - 4s 42ms/step - loss: 1.0653 - masked_acc: 0.7653 - masked_loss: 1.0653 - val_loss: 1.2504 - val_masked_acc: 0.7482 - val_masked_loss: 1.2504\n",
      "Epoch 22/100\n",
      "100/100 [==============================] - 4s 42ms/step - loss: 1.0742 - masked_acc: 0.7664 - masked_loss: 1.0742 - val_loss: 1.2148 - val_masked_acc: 0.7491 - val_masked_loss: 1.2148\n",
      "Epoch 23/100\n",
      "100/100 [==============================] - 4s 41ms/step - loss: 1.0830 - masked_acc: 0.7653 - masked_loss: 1.0830 - val_loss: 1.2072 - val_masked_acc: 0.7501 - val_masked_loss: 1.2072\n",
      "Epoch 24/100\n",
      "100/100 [==============================] - 4s 42ms/step - loss: 1.0697 - masked_acc: 0.7671 - masked_loss: 1.0697 - val_loss: 1.2298 - val_masked_acc: 0.7502 - val_masked_loss: 1.2298\n",
      "Epoch 25/100\n",
      "100/100 [==============================] - 4s 41ms/step - loss: 1.0370 - masked_acc: 0.7736 - masked_loss: 1.0370 - val_loss: 1.1675 - val_masked_acc: 0.7594 - val_masked_loss: 1.1675\n",
      "Epoch 26/100\n",
      "100/100 [==============================] - 4s 42ms/step - loss: 1.0763 - masked_acc: 0.7667 - masked_loss: 1.0763 - val_loss: 1.2084 - val_masked_acc: 0.7481 - val_masked_loss: 1.2084\n",
      "Epoch 27/100\n",
      "100/100 [==============================] - 4s 42ms/step - loss: 1.0330 - masked_acc: 0.7716 - masked_loss: 1.0330 - val_loss: 1.1482 - val_masked_acc: 0.7611 - val_masked_loss: 1.1482\n",
      "Epoch 28/100\n",
      "100/100 [==============================] - 4s 41ms/step - loss: 1.0588 - masked_acc: 0.7686 - masked_loss: 1.0588 - val_loss: 1.1839 - val_masked_acc: 0.7555 - val_masked_loss: 1.1839\n",
      "Epoch 29/100\n",
      "100/100 [==============================] - 4s 42ms/step - loss: 1.0392 - masked_acc: 0.7726 - masked_loss: 1.0392 - val_loss: 1.1802 - val_masked_acc: 0.7608 - val_masked_loss: 1.1802\n",
      "Epoch 30/100\n",
      "100/100 [==============================] - 4s 42ms/step - loss: 0.9879 - masked_acc: 0.7772 - masked_loss: 0.9909 - val_loss: 1.1925 - val_masked_acc: 0.7593 - val_masked_loss: 1.1925\n",
      "Epoch 31/100\n",
      "100/100 [==============================] - 4s 42ms/step - loss: 0.7598 - masked_acc: 0.8158 - masked_loss: 0.7598 - val_loss: 1.1734 - val_masked_acc: 0.7563 - val_masked_loss: 1.1734\n"
     ]
    }
   ],
   "source": [
    "history = model.fit(\n",
    "    train_ds.repeat(), \n",
    "    epochs=100,\n",
    "    steps_per_epoch = 100,\n",
    "    validation_data=val_ds,\n",
    "    validation_steps = 20,\n",
    "    callbacks=[\n",
    "        tf.keras.callbacks.EarlyStopping(patience=4)])"
   ]
  },
  {
   "cell_type": "code",
   "execution_count": 49,
   "metadata": {},
   "outputs": [
    {
     "data": {
      "text/plain": [
       "<matplotlib.legend.Legend at 0x2127597c1c0>"
      ]
     },
     "execution_count": 49,
     "metadata": {},
     "output_type": "execute_result"
    },
    {
     "data": {
      "image/png": "[encoded data removed]",
      "text/plain": [
       "<Figure size 640x480 with 1 Axes>"
      ]
     },
     "metadata": {},
     "output_type": "display_data"
    }
   ],
   "source": [
    "#plotting training history\n",
    "plt.plot(history.history['loss'], label='loss')\n",
    "plt.plot(history.history['val_loss'], label='val_loss')\n",
    "plt.ylim([0, max(plt.ylim())])\n",
    "plt.xlabel('Epoch #')\n",
    "plt.ylabel('CE/token')\n",
    "plt.legend()"
   ]
  },
  {
   "cell_type": "code",
   "execution_count": 50,
   "metadata": {},
   "outputs": [
    {
     "data": {
      "text/plain": [
       "<matplotlib.legend.Legend at 0x212e0bc0370>"
      ]
     },
     "execution_count": 50,
     "metadata": {},
     "output_type": "execute_result"
    },
    {
     "data": {
      "image/png": "[encoded data removed]",
      "text/plain": [
       "<Figure size 640x480 with 1 Axes>"
      ]
     },
     "metadata": {},
     "output_type": "display_data"
    }
   ],
   "source": [
    "plt.plot(history.history['masked_acc'], label='accuracy')\n",
    "plt.plot(history.history['val_masked_acc'], label='val_accuracy')\n",
    "plt.ylim([0, max(plt.ylim())])\n",
    "plt.xlabel('Epoch #')\n",
    "plt.ylabel('CE/token')\n",
    "plt.legend()"
   ]
  },
  {
   "attachments": {},
   "cell_type": "markdown",
   "metadata": {},
   "source": [
    "# Model Inference and Attention evaluation"
   ]
  },
  {
   "cell_type": "code",
   "execution_count": 51,
   "metadata": {},
   "outputs": [
    {
     "data": {
      "text/plain": [
       "'is he still at home ? '"
      ]
     },
     "execution_count": 51,
     "metadata": {},
     "output_type": "execute_result"
    }
   ],
   "source": [
    "result = model.translate(['¿Todavía está en casa?']) # Are you still home\n",
    "result[0].numpy().decode()"
   ]
  },
  {
   "cell_type": "code",
   "execution_count": 52,
   "metadata": {},
   "outputs": [
    {
     "name": "stderr",
     "output_type": "stream",
     "text": [
      "C:\\Users\\Vincent\\AppData\\Local\\Temp\\ipykernel_12376\\4066418792.py:23: UserWarning: FixedFormatter should only be used together with FixedLocator\n",
      "  ax.set_xticklabels([''] + context, fontdict=fontdict, rotation=90)\n",
      "C:\\Users\\Vincent\\AppData\\Local\\Temp\\ipykernel_12376\\4066418792.py:24: UserWarning: FixedFormatter should only be used together with FixedLocator\n",
      "  ax.set_yticklabels([''] + output, fontdict=fontdict)\n"
     ]
    },
    {
     "data": {
      "image/png": "[encoded data removed]",
      "text/plain": [
       "<Figure size 1000x1000 with 1 Axes>"
      ]
     },
     "metadata": {},
     "output_type": "display_data"
    }
   ],
   "source": [
    "model.plot_attention('¿Todavía está en casa?') # Are you still home"
   ]
  },
  {
   "cell_type": "code",
   "execution_count": 53,
   "metadata": {},
   "outputs": [
    {
     "name": "stdout",
     "output_type": "stream",
     "text": [
      "CPU times: total: 125 ms\n",
      "Wall time: 144 ms\n"
     ]
    },
    {
     "name": "stderr",
     "output_type": "stream",
     "text": [
      "C:\\Users\\Vincent\\AppData\\Local\\Temp\\ipykernel_12376\\4066418792.py:23: UserWarning: FixedFormatter should only be used together with FixedLocator\n",
      "  ax.set_xticklabels([''] + context, fontdict=fontdict, rotation=90)\n",
      "C:\\Users\\Vincent\\AppData\\Local\\Temp\\ipykernel_12376\\4066418792.py:24: UserWarning: FixedFormatter should only be used together with FixedLocator\n",
      "  ax.set_yticklabels([''] + output, fontdict=fontdict)\n"
     ]
    },
    {
     "data": {
      "image/png": "[encoded data removed]",
      "text/plain": [
       "<Figure size 1000x1000 with 1 Axes>"
      ]
     },
     "metadata": {},
     "output_type": "display_data"
    }
   ],
   "source": [
    "%%time\n",
    "# This is my life.\n",
    "model.plot_attention('Esta es mi vida.')"
   ]
  },
  {
   "cell_type": "code",
   "execution_count": null,
   "metadata": {},
   "outputs": [],
   "source": []
  },
  {
   "cell_type": "code",
   "execution_count": null,
   "metadata": {},
   "outputs": [],
   "source": []
  }
 ],
 "metadata": {
  "kernelspec": {
   "display_name": "Python 3.9.13 ('tf')",
   "language": "python",
   "name": "python3"
  },
  "language_info": {
   "codemirror_mode": {
    "name": "ipython",
    "version": 3
   },
   "file_extension": ".py",
   "mimetype": "text/x-python",
   "name": "python",
   "nbconvert_exporter": "python",
   "pygments_lexer": "ipython3",
   "version": "3.9.13"
  },
  "orig_nbformat": 4,
  "vscode": {
   "interpreter": {
    "hash": "ec537239728ac8893588346e27b155988a5267d59b4461281b8b4e768c153fd9"
   }
  }
 },
 "nbformat": 4,
 "nbformat_minor": 2
}
