{
 "cells": [
  {
   "cell_type": "code",
   "execution_count": 1,
   "metadata": {},
   "outputs": [],
   "source": [
    "import numpy as np\n",
    "\n",
    "import typing\n",
    "from typing import Any, Tuple\n",
    "\n",
    "import einops\n",
    "import matplotlib.pyplot as plt\n",
    "import matplotlib.ticker as ticker\n",
    "\n",
    "import tensorflow as tf\n",
    "import tensorflow_text as tf_text\n",
    "\n",
    "import pathlib\n",
    "import os, sys\n"
   ]
  },
  {
   "cell_type": "code",
   "execution_count": 2,
   "metadata": {},
   "outputs": [],
   "source": [
    "# data download\n",
    "\n",
    "\n",
    "# path_2_zip = tf.keras.utils.get_file('spa-eng.zip', origin='http://storage.googleapis.com/download.tensorflow.org/data/spa-eng.zip',\n",
    "#     extract=True)\n",
    "\n",
    "# path_2_file = pathlib.Path(path_2_zip).parent/'spa-eng/spa.txt'\n",
    "\n",
    "# print(path_2_file)\n",
    "# print(path_2_zip)"
   ]
  },
  {
   "cell_type": "code",
   "execution_count": 3,
   "metadata": {},
   "outputs": [
    {
     "name": "stdout",
     "output_type": "stream",
     "text": [
      "F:\\program repo\\NLP-translation\\dataset\\spa.txt\n"
     ]
    }
   ],
   "source": [
    "#data path\n",
    "fileDir = os.path.dirname(os.path.realpath('__file__'))\n",
    "filename = pathlib.Path(os.path.join(fileDir, r\"dataset\\spa.txt\"))\n",
    "\n",
    "print(filename)"
   ]
  },
  {
   "cell_type": "code",
   "execution_count": 4,
   "metadata": {},
   "outputs": [],
   "source": [
    "def load_data(path):\n",
    "    text = path.read_text(encoding='utf-8')\n",
    "\n",
    "    lines = text.splitlines()\n",
    "    pairs = [line.split('\\t') for line in lines]\n",
    "\n",
    "    context = np.array([context for target, context in pairs])\n",
    "    target = np.array([target for target, context in pairs])\n",
    "\n",
    "    return target, context\n",
    "\n"
   ]
  },
  {
   "cell_type": "code",
   "execution_count": 5,
   "metadata": {},
   "outputs": [],
   "source": [
    "target_raw, context_raw = load_data(filename)"
   ]
  },
  {
   "cell_type": "code",
   "execution_count": 6,
   "metadata": {},
   "outputs": [
    {
     "name": "stdout",
     "output_type": "stream",
     "text": [
      "Go.\n",
      "Ve.\n"
     ]
    }
   ],
   "source": [
    "#check data\n",
    "print(target_raw[0])\n",
    "print(context_raw[0])"
   ]
  },
  {
   "cell_type": "code",
   "execution_count": 7,
   "metadata": {},
   "outputs": [],
   "source": [
    "#meta data\n",
    "\n",
    "max_vocab_size = 5000\n",
    "\n",
    "buffer_size = len(context_raw)\n",
    "batch_size = 64\n",
    "\n",
    "train_set_proportion = 0.8\n",
    "\n",
    "is_train = np.random.uniform(size=(len(target_raw), )) < train_set_proportion\n",
    "\n"
   ]
  },
  {
   "cell_type": "code",
   "execution_count": 8,
   "metadata": {},
   "outputs": [],
   "source": [
    "class ShapeChecker():\n",
    "    def __init__(self):\n",
    "        # Keep a cache of every axis-name seen\n",
    "        self.shapes = {}\n",
    "\n",
    "    def __call__(self, tensor, names, broadcast=False):\n",
    "        if not tf.executing_eagerly():\n",
    "            return\n",
    "\n",
    "        parsed = einops.parse_shape(tensor, names)\n",
    "\n",
    "        for name, new_dim in parsed.items():\n",
    "            old_dim = self.shapes.get(name, None)\n",
    "\n",
    "            if (broadcast and new_dim == 1):\n",
    "                continue\n",
    "\n",
    "            if old_dim is None:\n",
    "                # If the axis name is new, add its length to the cache.\n",
    "                self.shapes[name] = new_dim\n",
    "                continue\n",
    "\n",
    "            if new_dim != old_dim:\n",
    "                raise ValueError(f\"Shape mismatch for dimension: '{name}'\\n\"\n",
    "                                    f\"    found: {new_dim}\\n\"\n",
    "                                    f\"    expected: {old_dim}\\n\")"
   ]
  },
  {
   "cell_type": "code",
   "execution_count": 9,
   "metadata": {},
   "outputs": [],
   "source": [
    "#set up tf dataset\n",
    "train_set_raw = (\n",
    "    tf.data.Dataset.from_tensor_slices((context_raw[is_train], target_raw[is_train]))\n",
    "    .shuffle(buffer_size)\n",
    "    .batch(batch_size)\n",
    ")\n",
    "\n",
    "val_set_raw = (\n",
    "    tf.data.Dataset.from_tensor_slices((context_raw[~is_train], target_raw[~is_train]))\n",
    "    .shuffle(buffer_size)\n",
    "    .batch(batch_size)\n",
    ")"
   ]
  },
  {
   "cell_type": "code",
   "execution_count": 10,
   "metadata": {},
   "outputs": [
    {
     "name": "stdout",
     "output_type": "stream",
     "text": [
      "tf.Tensor(\n",
      "[b'Dinos qu\\xc3\\xa9 quieres hacer.'\n",
      " b'Como el clima aqu\\xc3\\xad es muy templado, nieva muy rara vez, incluso en invierno.'\n",
      " b'Recuerdo haberlo visto.'\n",
      " b'\\xc2\\xbfTen\\xc3\\xa9is un dicho similar en japon\\xc3\\xa9s?'\n",
      " b'\"\\xc2\\xbfTocar\\xc3\\xa1s el piano ma\\xc3\\xb1ana?\" \"No, no lo har\\xc3\\xa9.\"'\n",
      " b'La piedra es perfectamente plana.'], shape=(6,), dtype=string)\n",
      "\n",
      "tf.Tensor(\n",
      "[b'Tell us what you want to do.'\n",
      " b'Since the climate here is very mild, it seldom snows here even in the winter.'\n",
      " b'I remember seeing him.' b'Do you have a similar saying in Japanese?'\n",
      " b'\"Will you play the piano tomorrow?\" \"No, I won\\'t.\"'\n",
      " b'The stone is perfectly smooth.'], shape=(6,), dtype=string)\n"
     ]
    }
   ],
   "source": [
    "#data check\n",
    "\n",
    "for context_strings, target_strings in train_set_raw.take(1):\n",
    "    print(context_strings[:6])\n",
    "    print()\n",
    "    print(target_strings[:6])\n",
    "    break"
   ]
  },
  {
   "cell_type": "code",
   "execution_count": 11,
   "metadata": {},
   "outputs": [],
   "source": [
    "def tf_lower_and_split_punct(text):\n",
    "    #split accented characters\n",
    "    text = tf_text.normalize_utf8(text, 'NFKD') #NFKD is one of the normalization format defined in unicode convention\n",
    "    text = tf.strings.lower(text)\n",
    "    # Keep space, a to z, and select punctuation.\n",
    "    text = tf.strings.regex_replace(text, '[^ a-z.?!,¿]', '')\n",
    "    # Add spaces around punctuation.\n",
    "    text = tf.strings.regex_replace(text, '[.?!,¿]', r' \\0 ')\n",
    "    # Strip whitespace.\n",
    "    text = tf.strings.strip(text)\n",
    "\n",
    "    text = tf.strings.join(['[START]', text, '[END]'], separator=' ')\n",
    "    return text\n"
   ]
  },
  {
   "cell_type": "code",
   "execution_count": 12,
   "metadata": {},
   "outputs": [
    {
     "name": "stdout",
     "output_type": "stream",
     "text": [
      "b'\\xc2\\xbfTodav\\xc3\\xada est\\xc3\\xa1 en casa?'\n",
      "b'\\xc2\\xbfTodavi\\xcc\\x81a esta\\xcc\\x81 en casa?'\n",
      "¿Todavía está en casa?\n",
      "[START] ¿ todavia esta en casa ? [END]\n"
     ]
    }
   ],
   "source": [
    "#check\n",
    "\n",
    "example_text = tf.constant('¿Todavía está en casa?')\n",
    "\n",
    "print(example_text.numpy())\n",
    "print(tf_text.normalize_utf8(example_text, 'NFKD').numpy())\n",
    "\n",
    "print(example_text.numpy().decode())\n",
    "\n",
    "print(tf_lower_and_split_punct(example_text).numpy().decode())"
   ]
  },
  {
   "cell_type": "code",
   "execution_count": 13,
   "metadata": {},
   "outputs": [],
   "source": [
    "#Text vectoriazation\n",
    "\n",
    "context_text_preprocessor = tf.keras.layers.TextVectorization(\n",
    "    standardize=tf_lower_and_split_punct,\n",
    "    max_tokens=max_vocab_size,\n",
    "    ragged=True\n",
    ")"
   ]
  },
  {
   "cell_type": "code",
   "execution_count": 14,
   "metadata": {},
   "outputs": [],
   "source": [
    "context_text_preprocessor.adapt(train_set_raw.map(lambda context, target: context))"
   ]
  },
  {
   "cell_type": "code",
   "execution_count": 15,
   "metadata": {},
   "outputs": [
    {
     "data": {
      "text/plain": [
       "['',\n",
       " '[UNK]',\n",
       " '[START]',\n",
       " '[END]',\n",
       " '.',\n",
       " 'que',\n",
       " 'de',\n",
       " 'el',\n",
       " 'a',\n",
       " 'no',\n",
       " 'tom',\n",
       " 'la',\n",
       " '?',\n",
       " '¿',\n",
       " 'en']"
      ]
     },
     "execution_count": 15,
     "metadata": {},
     "output_type": "execute_result"
    }
   ],
   "source": [
    "#output check\n",
    "context_text_preprocessor.get_vocabulary()[:15]"
   ]
  },
  {
   "cell_type": "code",
   "execution_count": 16,
   "metadata": {},
   "outputs": [],
   "source": [
    "target_text_preprocessor = tf.keras.layers.TextVectorization(\n",
    "    standardize=tf_lower_and_split_punct,\n",
    "    max_tokens=max_vocab_size,\n",
    "    ragged=True\n",
    ")\n",
    "\n"
   ]
  },
  {
   "cell_type": "code",
   "execution_count": 17,
   "metadata": {},
   "outputs": [],
   "source": [
    "target_text_preprocessor.adapt(train_set_raw.map(lambda context, target: target))"
   ]
  },
  {
   "cell_type": "code",
   "execution_count": 18,
   "metadata": {},
   "outputs": [
    {
     "data": {
      "text/plain": [
       "['', '[UNK]', '[START]', '[END]', '.', 'the', 'i', 'to', 'you', 'tom']"
      ]
     },
     "execution_count": 18,
     "metadata": {},
     "output_type": "execute_result"
    }
   ],
   "source": [
    "#output check\n",
    "target_text_preprocessor.get_vocabulary()[:10]"
   ]
  },
  {
   "cell_type": "code",
   "execution_count": 19,
   "metadata": {},
   "outputs": [
    {
     "name": "stdout",
     "output_type": "stream",
     "text": [
      "<tf.RaggedTensor [[2, 4177, 5, 117, 54, 4, 3],\n",
      " [2, 38, 7, 907, 51, 15, 42, 1, 19, 2873, 42, 1310, 71, 19, 967, 14, 778, 4,\n",
      "  3]                                                                        ,\n",
      " [2, 598, 1120, 220, 4, 3]]>\n"
     ]
    }
   ],
   "source": [
    "example_tokens = context_text_preprocessor(context_strings)\n",
    "print(example_tokens[ : 3])"
   ]
  },
  {
   "cell_type": "code",
   "execution_count": 20,
   "metadata": {},
   "outputs": [
    {
     "name": "stdout",
     "output_type": "stream",
     "text": [
      "[START] dinos que quieres hacer . [END]\n",
      "[START] tell us what you want to do . [END]\n"
     ]
    }
   ],
   "source": [
    "#convert token value back to words\n",
    "\n",
    "context_vocab = np.array(context_text_preprocessor.get_vocabulary())\n",
    "tokens = context_vocab[example_tokens[0].numpy()]\n",
    "print(' '.join(tokens))\n",
    "\n",
    "\n",
    "target_vocab = np.array(target_text_preprocessor.get_vocabulary())\n",
    "tk2 = target_vocab[target_text_preprocessor(target_strings)[0].numpy()]\n",
    "print(' '.join(tk2))"
   ]
  },
  {
   "cell_type": "code",
   "execution_count": 21,
   "metadata": {},
   "outputs": [
    {
     "data": {
      "text/plain": [
       "Text(0.5, 1.0, 'Mask')"
      ]
     },
     "execution_count": 21,
     "metadata": {},
     "output_type": "execute_result"
    },
    {
     "data": {
      "image/png": "[encoded data removed]",
      "text/plain": [
       "<Figure size 640x480 with 2 Axes>"
      ]
     },
     "metadata": {},
     "output_type": "display_data"
    }
   ],
   "source": [
    "# visualization\n",
    "\n",
    "plt.subplot(1, 2, 1)\n",
    "plt.pcolormesh(example_tokens.to_tensor())\n",
    "plt.title('Token IDs')\n",
    "\n",
    "plt.subplot(1, 2, 2)\n",
    "plt.pcolormesh(example_tokens.to_tensor() != 0)\n",
    "plt.title('Mask')"
   ]
  },
  {
   "cell_type": "code",
   "execution_count": 22,
   "metadata": {},
   "outputs": [],
   "source": [
    "def process_text(context, target):\n",
    "    context = context_text_preprocessor(context).to_tensor()\n",
    "    target = target_text_preprocessor(target)\n",
    "    targ_in = target[:,:-1].to_tensor()\n",
    "    targ_out = target[:,1:].to_tensor()\n",
    "    return (context, targ_in), targ_out\n",
    "\n",
    "train_ds = train_set_raw.map(process_text, tf.data.AUTOTUNE)\n",
    "val_ds = val_set_raw.map(process_text, tf.data.AUTOTUNE)"
   ]
  },
  {
   "cell_type": "code",
   "execution_count": 23,
   "metadata": {},
   "outputs": [
    {
     "name": "stdout",
     "output_type": "stream",
     "text": [
      "[   2   65   62   37 3450   18  549  262    6   25]\n",
      "\n",
      "[  2  17  18 135  70   6 310  44  16   6]\n",
      "[  17   18  135   70    6  310   44   16    6 1144]\n"
     ]
    }
   ],
   "source": [
    "for (ex_context_tok, ex_tar_in), ex_tar_out in train_ds.take(1):\n",
    "  print(ex_context_tok[0, :10].numpy()) \n",
    "  print()\n",
    "  print(ex_tar_in[0, :10].numpy()) \n",
    "  print(ex_tar_out[0, :10].numpy())"
   ]
  },
  {
   "cell_type": "code",
   "execution_count": null,
   "metadata": {},
   "outputs": [],
   "source": []
  },
  {
   "cell_type": "markdown",
   "metadata": {},
   "source": [
    "# ENCODER"
   ]
  },
  {
   "cell_type": "code",
   "execution_count": 24,
   "metadata": {},
   "outputs": [],
   "source": [
    "units = 256 #units of the rnn layer"
   ]
  },
  {
   "cell_type": "code",
   "execution_count": 25,
   "metadata": {},
   "outputs": [],
   "source": [
    "class Encoder(tf.keras.layers.Layer):\n",
    "    def __init__(self, text_preprocessor, units):\n",
    "        super(Encoder, self).__init__()\n",
    "        self.text_preprocessor = text_preprocessor\n",
    "        self.vocab_size = text_preprocessor.vocabulary_size()\n",
    "        self.units = units\n",
    "    \n",
    "\n",
    "        # The embedding layer converts tokens to vectors\n",
    "        self.embedding = tf.keras.layers.Embedding(self.vocab_size, units, mask_zero=True)\n",
    "\n",
    "        # The RNN layer processes those vectors sequentially.\n",
    "\n",
    "        # self.rnn = tf.keras.layers.LSTM(\n",
    "        #     units,\n",
    "        #     return_sequences=True,\n",
    "        #     recurrent_initializer='glorot_uniform'\n",
    "        # )\n",
    "\n",
    "        self.rnn = tf.keras.layers.Bidirectional(\n",
    "            layer=tf.keras.layers.GRU(\n",
    "                units,\n",
    "                return_sequences=True,\n",
    "                recurrent_initializer='glorot_uniform'\n",
    "            )\n",
    "        )\n",
    "\n",
    "\n",
    "    def call(self, x):\n",
    "        # shape_checker = ShapeChecker() \n",
    "        # shape_checker(x, 'batch s')\n",
    "\n",
    "        # 2. The embedding layer looks up the embedding vector for each token.\n",
    "        x = self.embedding(x)\n",
    "        # shape_checker(x, 'batch s units embedding')\n",
    "\n",
    "        # 3. The GRU processes the sequence of embeddings.\n",
    "        x = self.rnn(x)\n",
    "        # shape_checker(x, 'batch s units rnn')\n",
    "\n",
    "        # 4. Returns the new sequence of embeddings.\n",
    "        return x\n",
    "\n",
    "    def convert_input(self, texts):\n",
    "        texts = tf.convert_to_tensor(texts)\n",
    "\n",
    "        if len(texts.shape) == 0:\n",
    "            texts = tf.convert_to_tensor(texts)[tf.newaxis]\n",
    "        context = self.text_preprocessor(texts).to_tensor()\n",
    "        context = self(context)\n",
    "        return context"
   ]
  },
  {
   "cell_type": "code",
   "execution_count": 26,
   "metadata": {},
   "outputs": [
    {
     "name": "stdout",
     "output_type": "stream",
     "text": [
      "Context tokens, shape (batch, s): (64, 19)\n",
      "Encoder output, shape (batch, s, units): (64, 19, 512)\n"
     ]
    }
   ],
   "source": [
    "#testing\n",
    "\n",
    "encoder = Encoder(context_text_preprocessor, units)\n",
    "ex_context = encoder(ex_context_tok)\n",
    "\n",
    "print(f'Context tokens, shape (batch, s): {ex_context_tok.shape}')\n",
    "print(f'Encoder output, shape (batch, s, units): {ex_context.shape}')"
   ]
  },
  {
   "cell_type": "code",
   "execution_count": 27,
   "metadata": {},
   "outputs": [],
   "source": [
    "class CrossAttention(tf.keras.layers.Layer):\n",
    "    def __init__(self, units, **kwargs):\n",
    "        super().__init__()\n",
    "        self.mha = tf.keras.layers.MultiHeadAttention(key_dim=units, num_heads=1, **kwargs)\n",
    "        self.layernorm = tf.keras.layers.LayerNormalization()\n",
    "        self.add = tf.keras.layers.Add()\n",
    "\n",
    "    def call(self, x, context):\n",
    "\n",
    "        attn_output, attn_scores = self.mha(\n",
    "            query=x,\n",
    "            value=context,\n",
    "            return_attention_scores=True)\n",
    "\n",
    "        # Cache the attention scores for plotting later.\n",
    "        attn_scores = tf.reduce_mean(attn_scores, axis=1)\n",
    "\n",
    "        self.last_attention_weights = attn_scores\n",
    "\n",
    "        x = self.add([x, attn_output])\n",
    "        x = self.layernorm(x)\n",
    "\n",
    "        return x\n",
    "        \n",
    "        "
   ]
  },
  {
   "cell_type": "code",
   "execution_count": 28,
   "metadata": {},
   "outputs": [
    {
     "name": "stdout",
     "output_type": "stream",
     "text": [
      "Context sequence, shape (batch, s, units): (64, 19, 512)\n",
      "Target sequence, shape (batch, t, units): (64, 18, 256)\n",
      "Attention result, shape (batch, t, units): (64, 18, 256)\n",
      "Attention weights, shape (batch, t, s):    (64, 18, 19)\n"
     ]
    }
   ],
   "source": [
    "attention_layer = CrossAttention(units)\n",
    "\n",
    "# Attend to the encoded tokens\n",
    "embed = tf.keras.layers.Embedding(target_text_preprocessor.vocabulary_size(),\n",
    "                                  output_dim=units, mask_zero=True)\n",
    "\n",
    "\n",
    "ex_tar_embed = embed(ex_tar_in)\n",
    "\n",
    "result = attention_layer(ex_tar_embed, ex_context)\n",
    "\n",
    "print(f'Context sequence, shape (batch, s, units): {ex_context.shape}')\n",
    "print(f'Target sequence, shape (batch, t, units): {ex_tar_embed.shape}')\n",
    "print(f'Attention result, shape (batch, t, units): {result.shape}')\n",
    "print(f'Attention weights, shape (batch, t, s):    {attention_layer.last_attention_weights.shape}')"
   ]
  },
  {
   "cell_type": "code",
   "execution_count": 29,
   "metadata": {},
   "outputs": [
    {
     "data": {
      "text/plain": [
       "array([0.99999994, 1.        , 1.        , 1.        , 0.99999994,\n",
       "       1.        , 0.99999994, 0.9999999 , 1.        , 1.        ,\n",
       "       1.        , 1.        , 0.99999994, 1.        , 1.        ,\n",
       "       0.99999994, 0.99999994, 0.99999994], dtype=float32)"
      ]
     },
     "execution_count": 29,
     "metadata": {},
     "output_type": "execute_result"
    }
   ],
   "source": [
    "#check attention layer sum, \n",
    "# The attention weights will sum to 1 over the context sequence, at each location in the target sequence.\n",
    "attention_layer.last_attention_weights[0].numpy().sum(axis=-1)"
   ]
  },
  {
   "cell_type": "code",
   "execution_count": 30,
   "metadata": {},
   "outputs": [
    {
     "data": {
      "image/png": "[encoded data removed]",
      "text/plain": [
       "<Figure size 640x480 with 2 Axes>"
      ]
     },
     "metadata": {},
     "output_type": "display_data"
    }
   ],
   "source": [
    "# plot attention weight\n",
    "attention_weights = attention_layer.last_attention_weights\n",
    "mask=(ex_context_tok != 0).numpy()\n",
    "\n",
    "plt.subplot(1, 2, 1)\n",
    "plt.pcolormesh(mask*attention_weights[:, 0, :])\n",
    "plt.title('Attention weights')\n",
    "\n",
    "plt.subplot(1, 2, 2)\n",
    "plt.pcolormesh(mask)\n",
    "plt.title('Mask');"
   ]
  },
  {
   "cell_type": "code",
   "execution_count": 31,
   "metadata": {},
   "outputs": [],
   "source": [
    "class Decoder(tf.keras.layers.Layer):\n",
    "    @classmethod\n",
    "    def add_method(cls, fun):\n",
    "        setattr(cls, fun.__name__, fun)\n",
    "        return fun\n",
    "\n",
    "    def __init__(self, text_processor, units):\n",
    "        super(Decoder, self).__init__()\n",
    "        self.text_processor = text_processor\n",
    "        self.vocab_size = text_processor.vocabulary_size()\n",
    "        self.word_to_id = tf.keras.layers.StringLookup(\n",
    "            vocabulary=text_processor.get_vocabulary(),\n",
    "            mask_token='', oov_token='[UNK]')\n",
    "        self.id_to_word = tf.keras.layers.StringLookup(\n",
    "            vocabulary=text_processor.get_vocabulary(),\n",
    "            mask_token='', oov_token='[UNK]',\n",
    "            invert=True)\n",
    "        self.start_token = self.word_to_id('[START]')\n",
    "        self.end_token = self.word_to_id('[END]')\n",
    "\n",
    "        self.units = units\n",
    "\n",
    "        # 1. The embedding layer converts token IDs to vectors\n",
    "        self.embedding = tf.keras.layers.Embedding(self.vocab_size,\n",
    "                                                units, mask_zero=True)\n",
    "\n",
    "        # 2. The RNN keeps track of what's been generated so far.\n",
    "        self.rnn = tf.keras.layers.GRU(units,\n",
    "                                    return_sequences=True,\n",
    "                                    return_state=True,\n",
    "                                    recurrent_initializer='glorot_uniform')\n",
    "\n",
    "        # 3. The RNN output will be the query for the attention layer.\n",
    "        self.attention = CrossAttention(units)\n",
    "\n",
    "        # 4. This fully connected layer produces the logits for each\n",
    "        # output token.\n",
    "        self.output_layer = tf.keras.layers.Dense(self.vocab_size)\n"
   ]
  },
  {
   "cell_type": "code",
   "execution_count": 32,
   "metadata": {},
   "outputs": [],
   "source": [
    "@Decoder.add_method\n",
    "def call(self,\n",
    "            context, x,\n",
    "            state=None,\n",
    "            return_state=False):  \n",
    "    # shape_checker = ShapeChecker()\n",
    "    # shape_checker(x, 'batch t')\n",
    "    # shape_checker(context, 'batch s units')\n",
    "\n",
    "    # 1. Lookup the embeddings\n",
    "    x = self.embedding(x)\n",
    "    # shape_checker(x, 'batch t units')\n",
    "\n",
    "    # 2. Process the target sequence.\n",
    "    x, state = self.rnn(x, initial_state=state)\n",
    "    # shape_checker(x, 'batch t units')\n",
    "\n",
    "    # 3. Use the RNN output as the query for the attention over the context.\n",
    "    x = self.attention(x, context)\n",
    "    self.last_attention_weights = self.attention.last_attention_weights\n",
    "    # shape_checker(x, 'batch t units')\n",
    "    # shape_checker(self.last_attention_weights, 'batch t s')\n",
    "\n",
    "    # Step 4. Generate logit predictions for the next token.\n",
    "    logits = self.output_layer(x)\n",
    "    # shape_checker(logits, 'batch t target_vocab_size')\n",
    "\n",
    "    if return_state:\n",
    "        return logits, state\n",
    "    else:\n",
    "        return logits"
   ]
  },
  {
   "cell_type": "code",
   "execution_count": 33,
   "metadata": {},
   "outputs": [],
   "source": [
    "decoder = Decoder(target_text_preprocessor, units)"
   ]
  },
  {
   "cell_type": "code",
   "execution_count": 34,
   "metadata": {},
   "outputs": [
    {
     "name": "stdout",
     "output_type": "stream",
     "text": [
      "encoder output shape: (batch, s, units) (64, 19, 512)\n",
      "input target tokens shape: (batch, t) (64, 18)\n",
      "logits shape shape: (batch, target_vocabulary_size) (64, 18, 5000)\n"
     ]
    }
   ],
   "source": [
    "logits = decoder(ex_context, ex_tar_in)\n",
    "\n",
    "print(f'encoder output shape: (batch, s, units) {ex_context.shape}')\n",
    "print(f'input target tokens shape: (batch, t) {ex_tar_in.shape}')\n",
    "print(f'logits shape shape: (batch, target_vocabulary_size) {logits.shape}')"
   ]
  },
  {
   "cell_type": "code",
   "execution_count": 35,
   "metadata": {},
   "outputs": [],
   "source": [
    "@Decoder.add_method\n",
    "def get_initial_state(self, context):\n",
    "    batch_size = tf.shape(context)[0]\n",
    "    start_tokens = tf.fill([batch_size, 1], self.start_token)\n",
    "    done = tf.zeros([batch_size, 1], dtype=tf.bool)\n",
    "    embedded = self.embedding(start_tokens)\n",
    "    return start_tokens, done, self.rnn.get_initial_state(embedded)[0]"
   ]
  },
  {
   "cell_type": "code",
   "execution_count": 36,
   "metadata": {},
   "outputs": [],
   "source": [
    "@Decoder.add_method\n",
    "def tokens_to_text(self, tokens):\n",
    "    words = self.id_to_word(tokens)\n",
    "    result = tf.strings.reduce_join(words, axis=-1, separator=' ')\n",
    "    result = tf.strings.regex_replace(result, '^ *\\[START\\] *', '')\n",
    "    result = tf.strings.regex_replace(result, ' *\\[END\\] *$', '')\n",
    "    return result"
   ]
  },
  {
   "cell_type": "code",
   "execution_count": 37,
   "metadata": {},
   "outputs": [],
   "source": [
    "@Decoder.add_method\n",
    "def get_next_token(self, context, next_token, done, state, temperature = 0.0):\n",
    "    logits, state = self(\n",
    "        context, next_token,\n",
    "        state = state,\n",
    "        return_state=True) \n",
    "\n",
    "    if temperature == 0.0:\n",
    "        next_token = tf.argmax(logits, axis=-1)\n",
    "    else:\n",
    "        logits = logits[:, -1, :]/temperature\n",
    "        next_token = tf.random.categorical(logits, num_samples=1)\n",
    "\n",
    "    # If a sequence produces an `end_token`, set it `done`\n",
    "    done = done | (next_token == self.end_token)\n",
    "    # Once a sequence is done it only produces 0-padding.\n",
    "    next_token = tf.where(done, tf.constant(0, dtype=tf.int64), next_token)\n",
    "\n",
    "    return next_token, done, state"
   ]
  },
  {
   "cell_type": "code",
   "execution_count": 38,
   "metadata": {},
   "outputs": [
    {
     "data": {
      "text/plain": [
       "array([b'glass holds growing boiled exist slightly really declined arranged folding',\n",
       "       b'closely routine cream realize collecting realistic ordered harsh threatened whatre',\n",
       "       b'explanation ignore girlfriend political crawling touches curry cleaning shorter cell'],\n",
       "      dtype=object)"
      ]
     },
     "execution_count": 38,
     "metadata": {},
     "output_type": "execute_result"
    }
   ],
   "source": [
    "# Setup the loop variables.\n",
    "next_token, done, state = decoder.get_initial_state(ex_context)\n",
    "tokens = []\n",
    "\n",
    "for n in range(10):\n",
    "    # Run one step.\n",
    "    next_token, done, state = decoder.get_next_token(\n",
    "        ex_context, next_token, done, state, temperature=1.0)\n",
    "    # Add the token to the output.\n",
    "    tokens.append(next_token)\n",
    "\n",
    "# Stack all the tokens together.\n",
    "tokens = tf.concat(tokens, axis=-1) # (batch, t)\n",
    "\n",
    "# Convert the tokens back to a a string\n",
    "result = decoder.tokens_to_text(tokens)\n",
    "result[:3].numpy()"
   ]
  },
  {
   "cell_type": "code",
   "execution_count": 39,
   "metadata": {},
   "outputs": [],
   "source": [
    "class Translator(tf.keras.Model):\n",
    "    @classmethod\n",
    "    def add_method(cls, fun):\n",
    "        setattr(cls, fun.__name__, fun)\n",
    "        return fun\n",
    "\n",
    "    def __init__(self, units,\n",
    "                context_text_processor,\n",
    "                target_text_processor):\n",
    "        super().__init__()\n",
    "        # Build the encoder and decoder\n",
    "        encoder = Encoder(context_text_processor, units)\n",
    "        decoder = Decoder(target_text_processor, units)\n",
    "\n",
    "        self.encoder = encoder\n",
    "        self.decoder = decoder\n",
    "\n",
    "    def call(self, inputs):\n",
    "        context, x = inputs\n",
    "        context = self.encoder(context)\n",
    "        logits = self.decoder(context, x)\n",
    "\n",
    "        try:\n",
    "            # Delete the keras mask, so keras doesn't scale the loss+accuracy. \n",
    "            del logits._keras_mask\n",
    "        except AttributeError:\n",
    "            pass\n",
    "\n",
    "        return logits"
   ]
  },
  {
   "cell_type": "code",
   "execution_count": 53,
   "metadata": {},
   "outputs": [],
   "source": [
    "#translator inference method\n",
    "@Translator.add_method\n",
    "def translate(self,\n",
    "                texts, *,\n",
    "                max_length=50,\n",
    "                temperature=0.0):\n",
    "    # Process the input texts\n",
    "    context = self.encoder.convert_input(texts)\n",
    "    batch_size = tf.shape(texts)[0]\n",
    "\n",
    "    # Setup the loop inputs\n",
    "    tokens = []\n",
    "    attention_weights = []\n",
    "    next_token, done, state = self.decoder.get_initial_state(context)\n",
    "\n",
    "    for _ in range(max_length):\n",
    "        # Generate the next token\n",
    "        next_token, done, state = self.decoder.get_next_token(\n",
    "            context, next_token, done,  state, temperature)\n",
    "\n",
    "        # Collect the generated tokens\n",
    "        tokens.append(next_token)\n",
    "        attention_weights.append(self.decoder.last_attention_weights)\n",
    "\n",
    "        if tf.executing_eagerly() and tf.reduce_all(done):\n",
    "            break\n",
    "\n",
    "    # Stack the lists of tokens and attention weights.\n",
    "    tokens = tf.concat(tokens, axis=-1)   # t*[(batch 1)] -> (batch, t)\n",
    "    self.last_attention_weights = tf.concat(attention_weights, axis=1)  # t*[(batch 1 s)] -> (batch, t s)\n",
    "\n",
    "    result = self.decoder.tokens_to_text(tokens)\n",
    "    return result"
   ]
  },
  {
   "cell_type": "code",
   "execution_count": 40,
   "metadata": {},
   "outputs": [],
   "source": [
    "#Use that to generate the attention plot:\n",
    "@Translator.add_method\n",
    "def plot_attention(self, text, **kwargs):\n",
    "    assert isinstance(text, str)\n",
    "    output = self.translate([text], **kwargs)\n",
    "    output = output[0].numpy().decode()\n",
    "\n",
    "    attention = self.last_attention_weights[0]\n",
    "\n",
    "    context = tf_lower_and_split_punct(text)\n",
    "    context = context.numpy().decode().split()\n",
    "\n",
    "    output = tf_lower_and_split_punct(output)\n",
    "    output = output.numpy().decode().split()[1:]\n",
    "\n",
    "    fig = plt.figure(figsize=(10, 10))\n",
    "    ax = fig.add_subplot(1, 1, 1)\n",
    "\n",
    "    ax.matshow(attention, cmap='viridis', vmin=0.0)\n",
    "\n",
    "    fontdict = {'fontsize': 14}\n",
    "\n",
    "    ax.set_xticklabels([''] + context, fontdict=fontdict, rotation=90)\n",
    "    ax.set_yticklabels([''] + output, fontdict=fontdict)\n",
    "\n",
    "    ax.xaxis.set_major_locator(ticker.MultipleLocator(1))\n",
    "    ax.yaxis.set_major_locator(ticker.MultipleLocator(1))\n",
    "\n",
    "    ax.set_xlabel('Input text')\n",
    "    ax.set_ylabel('Output text')"
   ]
  },
  {
   "cell_type": "code",
   "execution_count": 41,
   "metadata": {},
   "outputs": [
    {
     "name": "stdout",
     "output_type": "stream",
     "text": [
      "Context tokens, shape: (batch, s, units) (64, 19)\n",
      "Target tokens, shape: (batch, t) (64, 18)\n",
      "logits, shape: (batch, t, target_vocabulary_size) (64, 18, 5000)\n"
     ]
    }
   ],
   "source": [
    "#training precheck\n",
    "model = Translator(units, context_text_preprocessor, target_text_preprocessor)\n",
    "\n",
    "logits = model((ex_context_tok, ex_tar_in))\n",
    "\n",
    "print(f'Context tokens, shape: (batch, s, units) {ex_context_tok.shape}')\n",
    "print(f'Target tokens, shape: (batch, t) {ex_tar_in.shape}')\n",
    "print(f'logits, shape: (batch, t, target_vocabulary_size) {logits.shape}')"
   ]
  },
  {
   "cell_type": "code",
   "execution_count": 42,
   "metadata": {},
   "outputs": [],
   "source": [
    "def masked_loss(y_true, y_pred):\n",
    "    # Calculate the loss for each item in the batch.\n",
    "    loss_fn = tf.keras.losses.SparseCategoricalCrossentropy(\n",
    "        from_logits=True, reduction='none')\n",
    "    loss = loss_fn(y_true, y_pred)\n",
    "\n",
    "    # Mask off the losses on padding.\n",
    "    mask = tf.cast(y_true != 0, loss.dtype)\n",
    "    loss *= mask\n",
    "\n",
    "    # Return the total.\n",
    "    return tf.reduce_sum(loss)/tf.reduce_sum(mask)"
   ]
  },
  {
   "cell_type": "code",
   "execution_count": 43,
   "metadata": {},
   "outputs": [],
   "source": [
    "def masked_acc(y_true, y_pred):\n",
    "    # Calculate the loss for each item in the batch.\n",
    "    y_pred = tf.argmax(y_pred, axis=-1)\n",
    "    y_pred = tf.cast(y_pred, y_true.dtype)\n",
    "\n",
    "    match = tf.cast(y_true == y_pred, tf.float32)\n",
    "    mask = tf.cast(y_true != 0, tf.float32)\n",
    "\n",
    "    return tf.reduce_sum(match)/tf.reduce_sum(mask)"
   ]
  },
  {
   "cell_type": "code",
   "execution_count": 44,
   "metadata": {},
   "outputs": [],
   "source": [
    "model.compile(optimizer='adam',\n",
    "              loss=masked_loss, \n",
    "              metrics=[masked_acc, masked_loss])"
   ]
  },
  {
   "attachments": {},
   "cell_type": "markdown",
   "metadata": {},
   "source": [
    "## Training precheck"
   ]
  },
  {
   "cell_type": "code",
   "execution_count": 45,
   "metadata": {},
   "outputs": [
    {
     "data": {
      "text/plain": [
       "{'expected_loss': 8.517193, 'expected_acc': 0.0002}"
      ]
     },
     "execution_count": 45,
     "metadata": {},
     "output_type": "execute_result"
    }
   ],
   "source": [
    "vocab_size = 1.0 * target_text_preprocessor.vocabulary_size()\n",
    "\n",
    "{\"expected_loss\": tf.math.log(vocab_size).numpy(),\n",
    " \"expected_acc\": 1/vocab_size}"
   ]
  },
  {
   "cell_type": "code",
   "execution_count": 46,
   "metadata": {},
   "outputs": [
    {
     "name": "stdout",
     "output_type": "stream",
     "text": [
      "20/20 [==============================] - 4s 15ms/step - loss: 8.5367 - masked_acc: 9.1575e-05 - masked_loss: 8.5367\n"
     ]
    },
    {
     "data": {
      "text/plain": [
       "{'loss': 8.53671646118164,\n",
       " 'masked_acc': 9.157509339274839e-05,\n",
       " 'masked_loss': 8.53671646118164}"
      ]
     },
     "execution_count": 46,
     "metadata": {},
     "output_type": "execute_result"
    }
   ],
   "source": [
    "model.evaluate(val_ds, steps=20, return_dict=True)"
   ]
  },
  {
   "cell_type": "code",
   "execution_count": 47,
   "metadata": {},
   "outputs": [
    {
     "name": "stdout",
     "output_type": "stream",
     "text": [
      "Epoch 1/100\n",
      "100/100 [==============================] - 10s 31ms/step - loss: 5.0464 - masked_acc: 0.2609 - masked_loss: 5.0464 - val_loss: 4.1427 - val_masked_acc: 0.3523 - val_masked_loss: 4.1427\n",
      "Epoch 2/100\n",
      "100/100 [==============================] - 3s 30ms/step - loss: 3.7059 - masked_acc: 0.4025 - masked_loss: 3.7059 - val_loss: 3.2900 - val_masked_acc: 0.4594 - val_masked_loss: 3.2900\n",
      "Epoch 3/100\n",
      "100/100 [==============================] - 3s 30ms/step - loss: 3.1045 - masked_acc: 0.4832 - masked_loss: 3.1045 - val_loss: 2.8868 - val_masked_acc: 0.5121 - val_masked_loss: 2.8868\n",
      "Epoch 4/100\n",
      "100/100 [==============================] - 3s 30ms/step - loss: 2.6577 - masked_acc: 0.5445 - masked_loss: 2.6577 - val_loss: 2.4316 - val_masked_acc: 0.5790 - val_masked_loss: 2.4316\n",
      "Epoch 5/100\n",
      "100/100 [==============================] - 3s 30ms/step - loss: 2.3468 - masked_acc: 0.5909 - masked_loss: 2.3468 - val_loss: 2.1738 - val_masked_acc: 0.6112 - val_masked_loss: 2.1738\n",
      "Epoch 6/100\n",
      "100/100 [==============================] - 3s 31ms/step - loss: 2.1422 - masked_acc: 0.6217 - masked_loss: 2.1422 - val_loss: 2.0174 - val_masked_acc: 0.6344 - val_masked_loss: 2.0174\n",
      "Epoch 7/100\n",
      "100/100 [==============================] - 3s 30ms/step - loss: 1.9553 - masked_acc: 0.6456 - masked_loss: 1.9553 - val_loss: 1.8119 - val_masked_acc: 0.6626 - val_masked_loss: 1.8119\n",
      "Epoch 8/100\n",
      "100/100 [==============================] - 3s 31ms/step - loss: 1.8170 - masked_acc: 0.6669 - masked_loss: 1.8170 - val_loss: 1.7912 - val_masked_acc: 0.6672 - val_masked_loss: 1.7912\n",
      "Epoch 9/100\n",
      "100/100 [==============================] - 3s 30ms/step - loss: 1.7224 - masked_acc: 0.6823 - masked_loss: 1.7224 - val_loss: 1.6576 - val_masked_acc: 0.6935 - val_masked_loss: 1.6576\n",
      "Epoch 10/100\n",
      "100/100 [==============================] - 3s 29ms/step - loss: 1.6600 - masked_acc: 0.6871 - masked_loss: 1.6600 - val_loss: 1.5840 - val_masked_acc: 0.6985 - val_masked_loss: 1.5840\n",
      "Epoch 11/100\n",
      "100/100 [==============================] - 3s 30ms/step - loss: 1.5945 - masked_acc: 0.6979 - masked_loss: 1.5945 - val_loss: 1.5543 - val_masked_acc: 0.7006 - val_masked_loss: 1.5543\n",
      "Epoch 12/100\n",
      "100/100 [==============================] - 3s 28ms/step - loss: 1.5272 - masked_acc: 0.7056 - masked_loss: 1.5272 - val_loss: 1.5432 - val_masked_acc: 0.6993 - val_masked_loss: 1.5432\n",
      "Epoch 13/100\n",
      "100/100 [==============================] - 3s 29ms/step - loss: 1.4771 - masked_acc: 0.7132 - masked_loss: 1.4771 - val_loss: 1.4679 - val_masked_acc: 0.7125 - val_masked_loss: 1.4679\n",
      "Epoch 14/100\n",
      "100/100 [==============================] - 3s 31ms/step - loss: 1.4724 - masked_acc: 0.7131 - masked_loss: 1.4724 - val_loss: 1.4528 - val_masked_acc: 0.7075 - val_masked_loss: 1.4528\n",
      "Epoch 15/100\n",
      "100/100 [==============================] - 3s 35ms/step - loss: 1.3745 - masked_acc: 0.7257 - masked_loss: 1.3754 - val_loss: 1.3972 - val_masked_acc: 0.7207 - val_masked_loss: 1.3972\n",
      "Epoch 16/100\n",
      "100/100 [==============================] - 4s 36ms/step - loss: 1.1873 - masked_acc: 0.7494 - masked_loss: 1.1873 - val_loss: 1.3995 - val_masked_acc: 0.7261 - val_masked_loss: 1.3995\n",
      "Epoch 17/100\n",
      "100/100 [==============================] - 3s 30ms/step - loss: 1.1927 - masked_acc: 0.7498 - masked_loss: 1.1927 - val_loss: 1.3358 - val_masked_acc: 0.7314 - val_masked_loss: 1.3358\n",
      "Epoch 18/100\n",
      "100/100 [==============================] - 3s 30ms/step - loss: 1.1871 - masked_acc: 0.7519 - masked_loss: 1.1871 - val_loss: 1.3012 - val_masked_acc: 0.7423 - val_masked_loss: 1.3012\n",
      "Epoch 19/100\n",
      "100/100 [==============================] - 3s 28ms/step - loss: 1.1758 - masked_acc: 0.7541 - masked_loss: 1.1758 - val_loss: 1.3255 - val_masked_acc: 0.7339 - val_masked_loss: 1.3255\n",
      "Epoch 20/100\n",
      "100/100 [==============================] - 3s 28ms/step - loss: 1.1759 - masked_acc: 0.7500 - masked_loss: 1.1759 - val_loss: 1.2863 - val_masked_acc: 0.7408 - val_masked_loss: 1.2863\n",
      "Epoch 21/100\n",
      "100/100 [==============================] - 3s 28ms/step - loss: 1.1666 - masked_acc: 0.7544 - masked_loss: 1.1666 - val_loss: 1.2903 - val_masked_acc: 0.7414 - val_masked_loss: 1.2903\n",
      "Epoch 22/100\n",
      "100/100 [==============================] - 3s 27ms/step - loss: 1.1639 - masked_acc: 0.7544 - masked_loss: 1.1639 - val_loss: 1.2882 - val_masked_acc: 0.7451 - val_masked_loss: 1.2882\n",
      "Epoch 23/100\n",
      "100/100 [==============================] - 3s 28ms/step - loss: 1.1639 - masked_acc: 0.7558 - masked_loss: 1.1639 - val_loss: 1.2526 - val_masked_acc: 0.7408 - val_masked_loss: 1.2526\n",
      "Epoch 24/100\n",
      "100/100 [==============================] - 3s 28ms/step - loss: 1.1422 - masked_acc: 0.7588 - masked_loss: 1.1422 - val_loss: 1.2494 - val_masked_acc: 0.7453 - val_masked_loss: 1.2494\n",
      "Epoch 25/100\n",
      "100/100 [==============================] - 3s 30ms/step - loss: 1.1499 - masked_acc: 0.7566 - masked_loss: 1.1499 - val_loss: 1.2231 - val_masked_acc: 0.7507 - val_masked_loss: 1.2231\n",
      "Epoch 26/100\n",
      "100/100 [==============================] - 3s 30ms/step - loss: 1.1338 - masked_acc: 0.7604 - masked_loss: 1.1338 - val_loss: 1.2476 - val_masked_acc: 0.7408 - val_masked_loss: 1.2476\n",
      "Epoch 27/100\n",
      "100/100 [==============================] - 3s 28ms/step - loss: 1.0975 - masked_acc: 0.7657 - masked_loss: 1.0975 - val_loss: 1.1983 - val_masked_acc: 0.7521 - val_masked_loss: 1.1983\n",
      "Epoch 28/100\n",
      "100/100 [==============================] - 3s 28ms/step - loss: 1.1266 - masked_acc: 0.7604 - masked_loss: 1.1266 - val_loss: 1.1531 - val_masked_acc: 0.7561 - val_masked_loss: 1.1531\n",
      "Epoch 29/100\n",
      "100/100 [==============================] - 3s 28ms/step - loss: 1.1139 - masked_acc: 0.7629 - masked_loss: 1.1139 - val_loss: 1.2091 - val_masked_acc: 0.7517 - val_masked_loss: 1.2091\n",
      "Epoch 30/100\n",
      "100/100 [==============================] - 3s 29ms/step - loss: 1.0300 - masked_acc: 0.7765 - masked_loss: 1.0300 - val_loss: 1.1904 - val_masked_acc: 0.7536 - val_masked_loss: 1.1904\n",
      "Epoch 31/100\n",
      "100/100 [==============================] - 3s 30ms/step - loss: 0.8646 - masked_acc: 0.8005 - masked_loss: 0.8646 - val_loss: 1.1895 - val_masked_acc: 0.7541 - val_masked_loss: 1.1895\n",
      "Epoch 32/100\n",
      "100/100 [==============================] - 3s 31ms/step - loss: 0.8727 - masked_acc: 0.7974 - masked_loss: 0.8727 - val_loss: 1.1725 - val_masked_acc: 0.7568 - val_masked_loss: 1.1725\n"
     ]
    }
   ],
   "source": [
    "history = model.fit(\n",
    "    train_ds.repeat(), \n",
    "    epochs=100,\n",
    "    steps_per_epoch = 100,\n",
    "    validation_data=val_ds,\n",
    "    validation_steps = 20,\n",
    "    callbacks=[\n",
    "        tf.keras.callbacks.EarlyStopping(patience=4)])"
   ]
  },
  {
   "cell_type": "code",
   "execution_count": 48,
   "metadata": {},
   "outputs": [
    {
     "data": {
      "text/plain": [
       "<matplotlib.legend.Legend at 0x226e0d6d190>"
      ]
     },
     "execution_count": 48,
     "metadata": {},
     "output_type": "execute_result"
    },
    {
     "data": {
      "image/png": "[encoded data removed]",
      "text/plain": [
       "<Figure size 640x480 with 1 Axes>"
      ]
     },
     "metadata": {},
     "output_type": "display_data"
    }
   ],
   "source": [
    "#plotting training history\n",
    "plt.plot(history.history['loss'], label='loss')\n",
    "plt.plot(history.history['val_loss'], label='val_loss')\n",
    "plt.ylim([0, max(plt.ylim())])\n",
    "plt.xlabel('Epoch #')\n",
    "plt.ylabel('CE/token')\n",
    "plt.legend()"
   ]
  },
  {
   "cell_type": "code",
   "execution_count": 49,
   "metadata": {},
   "outputs": [
    {
     "data": {
      "text/plain": [
       "<matplotlib.legend.Legend at 0x2208dffbf40>"
      ]
     },
     "execution_count": 49,
     "metadata": {},
     "output_type": "execute_result"
    },
    {
     "data": {
      "image/png": "[encoded data removed]",
      "text/plain": [
       "<Figure size 640x480 with 1 Axes>"
      ]
     },
     "metadata": {},
     "output_type": "display_data"
    }
   ],
   "source": [
    "plt.plot(history.history['masked_acc'], label='accuracy')\n",
    "plt.plot(history.history['val_masked_acc'], label='val_accuracy')\n",
    "plt.ylim([0, max(plt.ylim())])\n",
    "plt.xlabel('Epoch #')\n",
    "plt.ylabel('CE/token')\n",
    "plt.legend()"
   ]
  },
  {
   "attachments": {},
   "cell_type": "markdown",
   "metadata": {},
   "source": [
    "# Model Inference and Attention evaluation"
   ]
  },
  {
   "cell_type": "code",
   "execution_count": 54,
   "metadata": {},
   "outputs": [
    {
     "data": {
      "text/plain": [
       "'is still at home ? '"
      ]
     },
     "execution_count": 54,
     "metadata": {},
     "output_type": "execute_result"
    }
   ],
   "source": [
    "result = model.translate(['¿Todavía está en casa?']) # Are you still home\n",
    "result[0].numpy().decode()"
   ]
  },
  {
   "cell_type": "code",
   "execution_count": 55,
   "metadata": {},
   "outputs": [
    {
     "name": "stderr",
     "output_type": "stream",
     "text": [
      "C:\\Users\\Vincent\\AppData\\Local\\Temp\\ipykernel_10180\\1922001285.py:23: UserWarning: FixedFormatter should only be used together with FixedLocator\n",
      "  ax.set_xticklabels([''] + context, fontdict=fontdict, rotation=90)\n",
      "C:\\Users\\Vincent\\AppData\\Local\\Temp\\ipykernel_10180\\1922001285.py:24: UserWarning: FixedFormatter should only be used together with FixedLocator\n",
      "  ax.set_yticklabels([''] + output, fontdict=fontdict)\n"
     ]
    },
    {
     "data": {
      "image/png": "[encoded data removed]",
      "text/plain": [
       "<Figure size 1000x1000 with 1 Axes>"
      ]
     },
     "metadata": {},
     "output_type": "display_data"
    }
   ],
   "source": [
    "model.plot_attention('¿Todavía está en casa?') # Are you still home"
   ]
  },
  {
   "cell_type": "code",
   "execution_count": 56,
   "metadata": {},
   "outputs": [
    {
     "name": "stdout",
     "output_type": "stream",
     "text": [
      "CPU times: total: 234 ms\n",
      "Wall time: 240 ms\n"
     ]
    },
    {
     "name": "stderr",
     "output_type": "stream",
     "text": [
      "C:\\Users\\Vincent\\AppData\\Local\\Temp\\ipykernel_10180\\1922001285.py:23: UserWarning: FixedFormatter should only be used together with FixedLocator\n",
      "  ax.set_xticklabels([''] + context, fontdict=fontdict, rotation=90)\n",
      "C:\\Users\\Vincent\\AppData\\Local\\Temp\\ipykernel_10180\\1922001285.py:24: UserWarning: FixedFormatter should only be used together with FixedLocator\n",
      "  ax.set_yticklabels([''] + output, fontdict=fontdict)\n"
     ]
    },
    {
     "data": {
      "image/png": "[encoded data removed]",
      "text/plain": [
       "<Figure size 1000x1000 with 1 Axes>"
      ]
     },
     "metadata": {},
     "output_type": "display_data"
    }
   ],
   "source": [
    "%%time\n",
    "# This is my life.\n",
    "model.plot_attention('Esta es mi vida.')"
   ]
  },
  {
   "cell_type": "code",
   "execution_count": null,
   "metadata": {},
   "outputs": [],
   "source": []
  }
 ],
 "metadata": {
  "kernelspec": {
   "display_name": "Python 3.9.13 ('tf')",
   "language": "python",
   "name": "python3"
  },
  "language_info": {
   "codemirror_mode": {
    "name": "ipython",
    "version": 3
   },
   "file_extension": ".py",
   "mimetype": "text/x-python",
   "name": "python",
   "nbconvert_exporter": "python",
   "pygments_lexer": "ipython3",
   "version": "3.9.13"
  },
  "orig_nbformat": 4,
  "vscode": {
   "interpreter": {
    "hash": "ec537239728ac8893588346e27b155988a5267d59b4461281b8b4e768c153fd9"
   }
  }
 },
 "nbformat": 4,
 "nbformat_minor": 2
}
