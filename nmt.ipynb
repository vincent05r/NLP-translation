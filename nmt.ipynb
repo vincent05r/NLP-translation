{
 "cells": [
  {
   "cell_type": "code",
   "execution_count": 6,
   "metadata": {},
   "outputs": [],
   "source": [
    "import numpy as np\n",
    "\n",
    "import typing\n",
    "from typing import Any, Tuple\n",
    "\n",
    "import einops\n",
    "import matplotlib.pyplot as plt\n",
    "import matplotlib.ticker as ticker\n",
    "\n",
    "import tensorflow as tf\n",
    "import tensorflow_text as tf_text\n",
    "\n",
    "import pathlib\n",
    "import os, sys\n"
   ]
  },
  {
   "cell_type": "code",
   "execution_count": 7,
   "metadata": {},
   "outputs": [
    {
     "name": "stdout",
     "output_type": "stream",
     "text": [
      "Downloading data from http://storage.googleapis.com/download.tensorflow.org/data/spa-eng.zip\n",
      "2638744/2638744 [==============================] - 0s 0us/step\n",
      "C:\\Users\\Vincent\\.keras\\datasets\\spa-eng\\spa.txt\n",
      "C:\\Users\\Vincent\\.keras\\datasets\\spa-eng.zip\n"
     ]
    }
   ],
   "source": [
    "# data download\n",
    "\n",
    "\n",
    "# path_2_zip = tf.keras.utils.get_file('spa-eng.zip', origin='http://storage.googleapis.com/download.tensorflow.org/data/spa-eng.zip',\n",
    "#     extract=True)\n",
    "\n",
    "# path_2_file = pathlib.Path(path_2_zip).parent/'spa-eng/spa.txt'\n",
    "\n",
    "# print(path_2_file)\n",
    "# print(path_2_zip)"
   ]
  },
  {
   "cell_type": "code",
   "execution_count": 15,
   "metadata": {},
   "outputs": [
    {
     "name": "stdout",
     "output_type": "stream",
     "text": [
      "F:\\program repo\\NLP-translation\\dataset\\spa.txt\n"
     ]
    }
   ],
   "source": [
    "#data path\n",
    "fileDir = os.path.dirname(os.path.realpath('__file__'))\n",
    "filename = pathlib.Path(os.path.join(fileDir, r\"dataset\\spa.txt\"))\n",
    "\n",
    "print(filename)"
   ]
  },
  {
   "cell_type": "code",
   "execution_count": 18,
   "metadata": {},
   "outputs": [],
   "source": [
    "def load_data(path):\n",
    "    text = path.read_text(encoding='utf-8')\n",
    "\n",
    "    lines = text.splitlines()\n",
    "    pairs = [line.split('\\t') for line in lines]\n",
    "\n",
    "    context = np.array([context for target, context in pairs])\n",
    "    target = np.array([target for target, context in pairs])\n",
    "\n",
    "    return target, context\n",
    "\n"
   ]
  },
  {
   "cell_type": "code",
   "execution_count": 20,
   "metadata": {},
   "outputs": [
    {
     "name": "stdout",
     "output_type": "stream",
     "text": [
      "Go.\n",
      "Ve.\n"
     ]
    }
   ],
   "source": [
    "target_raw, context_raw = load_data(filename)"
   ]
  },
  {
   "cell_type": "code",
   "execution_count": 21,
   "metadata": {},
   "outputs": [
    {
     "name": "stdout",
     "output_type": "stream",
     "text": [
      "Go.\n",
      "Ve.\n"
     ]
    }
   ],
   "source": [
    "#check data\n",
    "print(target_raw[0])\n",
    "print(context_raw[0])"
   ]
  },
  {
   "cell_type": "code",
   "execution_count": 43,
   "metadata": {},
   "outputs": [],
   "source": [
    "#meta data\n",
    "\n",
    "max_vocab_size = 5000\n",
    "\n",
    "buffer_size = len(context_raw)\n",
    "batch_size = 64\n",
    "\n",
    "train_set_proportion = 0.8\n",
    "\n",
    "is_train = np.random.uniform(size=(len(target_raw), )) < train_set_proportion\n",
    "\n"
   ]
  },
  {
   "cell_type": "code",
   "execution_count": 36,
   "metadata": {},
   "outputs": [],
   "source": [
    "#set up tf dataset\n",
    "train_set_raw = (\n",
    "    tf.data.Dataset.from_tensor_slices((context_raw[is_train], target_raw[is_train]))\n",
    "    .shuffle(buffer_size)\n",
    "    .batch(batch_size)\n",
    ")\n",
    "\n",
    "val_set_raw = (\n",
    "    tf.data.Dataset.from_tensor_slices((context_raw[~is_train], target_raw[~is_train]))\n",
    "    .shuffle(buffer_size)\n",
    "    .batch(batch_size)\n",
    ")"
   ]
  },
  {
   "cell_type": "code",
   "execution_count": 37,
   "metadata": {},
   "outputs": [
    {
     "name": "stdout",
     "output_type": "stream",
     "text": [
      "tf.Tensor(\n",
      "[b'Finalmente, Tom supo lo que hab\\xc3\\xada sucedido.'\n",
      " b'Nunca conoc\\xc3\\xad a mi padre.' b'Te deseo mucho \\xc3\\xa9xito.'\n",
      " b'Quiero saber c\\xc3\\xb3mo le va a Tom.' b'Va a una escuela para sordos.'\n",
      " b'Tiene una cruda horrible.'], shape=(6,), dtype=string)\n",
      "\n",
      "tf.Tensor(\n",
      "[b'Eventually, Tom found out what had happened.'\n",
      " b'I never knew my father.' b'I wish you every success.'\n",
      " b'I want to know how Tom is doing.' b'He goes to a school for the deaf.'\n",
      " b'He has a terrible hangover.'], shape=(6,), dtype=string)\n"
     ]
    }
   ],
   "source": [
    "#data check\n",
    "\n",
    "for context_strings, target_strings in train_set_raw.take(1):\n",
    "    print(context_strings[:6])\n",
    "    print()\n",
    "    print(target_strings[:6])"
   ]
  },
  {
   "cell_type": "code",
   "execution_count": 38,
   "metadata": {},
   "outputs": [],
   "source": [
    "def tf_lower_and_split_punct(text):\n",
    "    #split accented characters\n",
    "    text = tf_text.normalize_utf8(text, 'NFKD') #NFKD is one of the normalization format defined in unicode convention\n",
    "    text = tf.strings.lower(text)\n",
    "    # Keep space, a to z, and select punctuation.\n",
    "    text = tf.strings.regex_replace(text, '[^ a-z.?!,¿]', '')\n",
    "    # Add spaces around punctuation.\n",
    "    text = tf.strings.regex_replace(text, '[.?!,¿]', r' \\0 ')\n",
    "    # Strip whitespace.\n",
    "    text = tf.strings.strip(text)\n",
    "\n",
    "    text = tf.strings.join(['[START]', text, '[END]'], separator=' ')\n",
    "    return text\n"
   ]
  },
  {
   "cell_type": "code",
   "execution_count": 41,
   "metadata": {},
   "outputs": [
    {
     "name": "stdout",
     "output_type": "stream",
     "text": [
      "b'\\xc2\\xbfTodav\\xc3\\xada est\\xc3\\xa1 en casa?'\n",
      "b'\\xc2\\xbfTodavi\\xcc\\x81a esta\\xcc\\x81 en casa?'\n",
      "¿Todavía está en casa?\n",
      "[START] ¿ todavia esta en casa ? [END]\n"
     ]
    }
   ],
   "source": [
    "#check\n",
    "\n",
    "example_text = tf.constant('¿Todavía está en casa?')\n",
    "\n",
    "print(example_text.numpy())\n",
    "print(tf_text.normalize_utf8(example_text, 'NFKD').numpy())\n",
    "\n",
    "print(example_text.numpy().decode())\n",
    "\n",
    "print(tf_lower_and_split_punct(example_text).numpy().decode())"
   ]
  },
  {
   "cell_type": "code",
   "execution_count": 44,
   "metadata": {},
   "outputs": [],
   "source": [
    "#Text vectoriazation\n",
    "\n",
    "context_text_preprocessor = tf.keras.layers.TextVectorization(\n",
    "    standardize=tf_lower_and_split_punct,\n",
    "    max_tokens=max_vocab_size,\n",
    "    ragged=True\n",
    ")"
   ]
  },
  {
   "cell_type": "code",
   "execution_count": 45,
   "metadata": {},
   "outputs": [],
   "source": [
    "context_text_preprocessor.adapt(train_set_raw.map(lambda context, target: context))"
   ]
  },
  {
   "cell_type": "code",
   "execution_count": 48,
   "metadata": {},
   "outputs": [
    {
     "data": {
      "text/plain": [
       "['',\n",
       " '[UNK]',\n",
       " '[START]',\n",
       " '[END]',\n",
       " '.',\n",
       " 'que',\n",
       " 'de',\n",
       " 'el',\n",
       " 'a',\n",
       " 'no',\n",
       " 'tom',\n",
       " 'la',\n",
       " '?',\n",
       " '¿',\n",
       " 'en']"
      ]
     },
     "execution_count": 48,
     "metadata": {},
     "output_type": "execute_result"
    }
   ],
   "source": [
    "#output check\n",
    "context_text_preprocessor.get_vocabulary()[:15]"
   ]
  },
  {
   "cell_type": "code",
   "execution_count": 49,
   "metadata": {},
   "outputs": [],
   "source": [
    "target_text_preprocessor = tf.keras.layers.TextVectorization(\n",
    "    standardize=tf_lower_and_split_punct,\n",
    "    max_tokens=max_vocab_size,\n",
    "    ragged=True\n",
    ")\n",
    "\n"
   ]
  },
  {
   "cell_type": "code",
   "execution_count": 50,
   "metadata": {},
   "outputs": [],
   "source": [
    "target_text_preprocessor.adapt(train_set_raw.map(lambda context, target: target))"
   ]
  },
  {
   "cell_type": "code",
   "execution_count": 51,
   "metadata": {},
   "outputs": [
    {
     "data": {
      "text/plain": [
       "['', '[UNK]', '[START]', '[END]', '.', 'the', 'i', 'to', 'you', 'tom']"
      ]
     },
     "execution_count": 51,
     "metadata": {},
     "output_type": "execute_result"
    }
   ],
   "source": [
    "#output check\n",
    "target_text_preprocessor.get_vocabulary()[:10]"
   ]
  },
  {
   "cell_type": "code",
   "execution_count": null,
   "metadata": {},
   "outputs": [],
   "source": []
  }
 ],
 "metadata": {
  "kernelspec": {
   "display_name": "Python 3.9.13 ('tf')",
   "language": "python",
   "name": "python3"
  },
  "language_info": {
   "codemirror_mode": {
    "name": "ipython",
    "version": 3
   },
   "file_extension": ".py",
   "mimetype": "text/x-python",
   "name": "python",
   "nbconvert_exporter": "python",
   "pygments_lexer": "ipython3",
   "version": "3.9.13"
  },
  "orig_nbformat": 4,
  "vscode": {
   "interpreter": {
    "hash": "ec537239728ac8893588346e27b155988a5267d59b4461281b8b4e768c153fd9"
   }
  }
 },
 "nbformat": 4,
 "nbformat_minor": 2
}
