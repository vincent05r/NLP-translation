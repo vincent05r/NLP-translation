{
 "cells": [
  {
   "cell_type": "code",
   "execution_count": 1,
   "metadata": {},
   "outputs": [],
   "source": [
    "import numpy as np\n",
    "\n",
    "import typing\n",
    "from typing import Any, Tuple\n",
    "\n",
    "import einops\n",
    "import matplotlib.pyplot as plt\n",
    "import matplotlib.ticker as ticker\n",
    "\n",
    "import tensorflow as tf\n",
    "import tensorflow_text as tf_text\n",
    "\n",
    "import pathlib\n",
    "import os, sys\n"
   ]
  },
  {
   "cell_type": "code",
   "execution_count": 2,
   "metadata": {},
   "outputs": [],
   "source": [
    "# data download\n",
    "\n",
    "\n",
    "# path_2_zip = tf.keras.utils.get_file('spa-eng.zip', origin='http://storage.googleapis.com/download.tensorflow.org/data/spa-eng.zip',\n",
    "#     extract=True)\n",
    "\n",
    "# path_2_file = pathlib.Path(path_2_zip).parent/'spa-eng/spa.txt'\n",
    "\n",
    "# print(path_2_file)\n",
    "# print(path_2_zip)"
   ]
  },
  {
   "cell_type": "code",
   "execution_count": 3,
   "metadata": {},
   "outputs": [
    {
     "name": "stdout",
     "output_type": "stream",
     "text": [
      "F:\\program repo\\NLP-translation\\dataset\\spa.txt\n"
     ]
    }
   ],
   "source": [
    "#data path\n",
    "fileDir = os.path.dirname(os.path.realpath('__file__'))\n",
    "filename = pathlib.Path(os.path.join(fileDir, r\"dataset\\spa.txt\"))\n",
    "\n",
    "print(filename)"
   ]
  },
  {
   "cell_type": "code",
   "execution_count": 4,
   "metadata": {},
   "outputs": [],
   "source": [
    "def load_data(path):\n",
    "    text = path.read_text(encoding='utf-8')\n",
    "\n",
    "    lines = text.splitlines()\n",
    "    pairs = [line.split('\\t') for line in lines]\n",
    "\n",
    "    context = np.array([context for target, context in pairs])\n",
    "    target = np.array([target for target, context in pairs])\n",
    "\n",
    "    return target, context\n",
    "\n"
   ]
  },
  {
   "cell_type": "code",
   "execution_count": 5,
   "metadata": {},
   "outputs": [],
   "source": [
    "target_raw, context_raw = load_data(filename)"
   ]
  },
  {
   "cell_type": "code",
   "execution_count": 6,
   "metadata": {},
   "outputs": [
    {
     "name": "stdout",
     "output_type": "stream",
     "text": [
      "Go.\n",
      "Ve.\n"
     ]
    }
   ],
   "source": [
    "#check data\n",
    "print(target_raw[0])\n",
    "print(context_raw[0])"
   ]
  },
  {
   "cell_type": "code",
   "execution_count": 7,
   "metadata": {},
   "outputs": [],
   "source": [
    "#meta data\n",
    "\n",
    "max_vocab_size = 5000\n",
    "\n",
    "buffer_size = len(context_raw)\n",
    "batch_size = 64\n",
    "\n",
    "train_set_proportion = 0.8\n",
    "\n",
    "is_train = np.random.uniform(size=(len(target_raw), )) < train_set_proportion\n",
    "\n"
   ]
  },
  {
   "cell_type": "code",
   "execution_count": 8,
   "metadata": {},
   "outputs": [],
   "source": [
    "#set up tf dataset\n",
    "train_set_raw = (\n",
    "    tf.data.Dataset.from_tensor_slices((context_raw[is_train], target_raw[is_train]))\n",
    "    .shuffle(buffer_size)\n",
    "    .batch(batch_size)\n",
    ")\n",
    "\n",
    "val_set_raw = (\n",
    "    tf.data.Dataset.from_tensor_slices((context_raw[~is_train], target_raw[~is_train]))\n",
    "    .shuffle(buffer_size)\n",
    "    .batch(batch_size)\n",
    ")"
   ]
  },
  {
   "cell_type": "code",
   "execution_count": 43,
   "metadata": {},
   "outputs": [
    {
     "name": "stdout",
     "output_type": "stream",
     "text": [
      "tf.Tensor(\n",
      "[b'Tom necesita algo de descanso.' b'Ahora tengo que irme.'\n",
      " b'El curso comienza a las diez.'\n",
      " b'\\xc3\\x89l lleva una bolsa a la espalda.'\n",
      " b'Tengo dos autom\\xc3\\xb3viles.'\n",
      " b'Se prob\\xc3\\xb3 que \\xc3\\xa9l era un ladr\\xc3\\xb3n.'], shape=(6,), dtype=string)\n",
      "\n",
      "tf.Tensor(\n",
      "[b'Tom needs some rest.' b'I have got to go now.'\n",
      " b'The class start at ten.' b'He carries a bag on his back.'\n",
      " b'I have two cars.' b'It was proved that he was a thief.'], shape=(6,), dtype=string)\n"
     ]
    }
   ],
   "source": [
    "#data check\n",
    "\n",
    "for context_strings, target_strings in train_set_raw.take(1):\n",
    "    print(context_strings[:6])\n",
    "    print()\n",
    "    print(target_strings[:6])\n",
    "    break"
   ]
  },
  {
   "cell_type": "code",
   "execution_count": 10,
   "metadata": {},
   "outputs": [],
   "source": [
    "def tf_lower_and_split_punct(text):\n",
    "    #split accented characters\n",
    "    text = tf_text.normalize_utf8(text, 'NFKD') #NFKD is one of the normalization format defined in unicode convention\n",
    "    text = tf.strings.lower(text)\n",
    "    # Keep space, a to z, and select punctuation.\n",
    "    text = tf.strings.regex_replace(text, '[^ a-z.?!,¿]', '')\n",
    "    # Add spaces around punctuation.\n",
    "    text = tf.strings.regex_replace(text, '[.?!,¿]', r' \\0 ')\n",
    "    # Strip whitespace.\n",
    "    text = tf.strings.strip(text)\n",
    "\n",
    "    text = tf.strings.join(['[START]', text, '[END]'], separator=' ')\n",
    "    return text\n"
   ]
  },
  {
   "cell_type": "code",
   "execution_count": 11,
   "metadata": {},
   "outputs": [
    {
     "name": "stdout",
     "output_type": "stream",
     "text": [
      "b'\\xc2\\xbfTodav\\xc3\\xada est\\xc3\\xa1 en casa?'\n",
      "b'\\xc2\\xbfTodavi\\xcc\\x81a esta\\xcc\\x81 en casa?'\n",
      "¿Todavía está en casa?\n",
      "[START] ¿ todavia esta en casa ? [END]\n"
     ]
    }
   ],
   "source": [
    "#check\n",
    "\n",
    "example_text = tf.constant('¿Todavía está en casa?')\n",
    "\n",
    "print(example_text.numpy())\n",
    "print(tf_text.normalize_utf8(example_text, 'NFKD').numpy())\n",
    "\n",
    "print(example_text.numpy().decode())\n",
    "\n",
    "print(tf_lower_and_split_punct(example_text).numpy().decode())"
   ]
  },
  {
   "cell_type": "code",
   "execution_count": 12,
   "metadata": {},
   "outputs": [],
   "source": [
    "#Text vectoriazation\n",
    "\n",
    "context_text_preprocessor = tf.keras.layers.TextVectorization(\n",
    "    standardize=tf_lower_and_split_punct,\n",
    "    max_tokens=max_vocab_size,\n",
    "    ragged=True\n",
    ")"
   ]
  },
  {
   "cell_type": "code",
   "execution_count": 13,
   "metadata": {},
   "outputs": [],
   "source": [
    "context_text_preprocessor.adapt(train_set_raw.map(lambda context, target: context))"
   ]
  },
  {
   "cell_type": "code",
   "execution_count": 14,
   "metadata": {},
   "outputs": [
    {
     "data": {
      "text/plain": [
       "['',\n",
       " '[UNK]',\n",
       " '[START]',\n",
       " '[END]',\n",
       " '.',\n",
       " 'que',\n",
       " 'de',\n",
       " 'el',\n",
       " 'a',\n",
       " 'no',\n",
       " 'tom',\n",
       " 'la',\n",
       " '?',\n",
       " '¿',\n",
       " 'en']"
      ]
     },
     "execution_count": 14,
     "metadata": {},
     "output_type": "execute_result"
    }
   ],
   "source": [
    "#output check\n",
    "context_text_preprocessor.get_vocabulary()[:15]"
   ]
  },
  {
   "cell_type": "code",
   "execution_count": 15,
   "metadata": {},
   "outputs": [],
   "source": [
    "target_text_preprocessor = tf.keras.layers.TextVectorization(\n",
    "    standardize=tf_lower_and_split_punct,\n",
    "    max_tokens=max_vocab_size,\n",
    "    ragged=True\n",
    ")\n",
    "\n"
   ]
  },
  {
   "cell_type": "code",
   "execution_count": 16,
   "metadata": {},
   "outputs": [],
   "source": [
    "target_text_preprocessor.adapt(train_set_raw.map(lambda context, target: target))"
   ]
  },
  {
   "cell_type": "code",
   "execution_count": 17,
   "metadata": {},
   "outputs": [
    {
     "data": {
      "text/plain": [
       "['', '[UNK]', '[START]', '[END]', '.', 'the', 'i', 'to', 'you', 'tom']"
      ]
     },
     "execution_count": 17,
     "metadata": {},
     "output_type": "execute_result"
    }
   ],
   "source": [
    "#output check\n",
    "target_text_preprocessor.get_vocabulary()[:10]"
   ]
  },
  {
   "cell_type": "code",
   "execution_count": 18,
   "metadata": {},
   "outputs": [
    {
     "name": "stdout",
     "output_type": "stream",
     "text": [
      "<tf.RaggedTensor [[2, 10, 4637, 8, 25, 141, 37, 585, 4, 3], [2, 10, 1994, 8, 32, 4, 3],\n",
      " [2, 7, 15, 4285, 8, 11, 1, 4, 3]]>\n"
     ]
    }
   ],
   "source": [
    "example_tokens = context_text_preprocessor(context_strings)\n",
    "print(example_tokens[ : 3])"
   ]
  },
  {
   "cell_type": "code",
   "execution_count": 19,
   "metadata": {},
   "outputs": [
    {
     "name": "stdout",
     "output_type": "stream",
     "text": [
      "[START] tom ato a su perro al arbol . [END]\n",
      "[START] tom tied his dog to the tree . [END]\n"
     ]
    }
   ],
   "source": [
    "#convert token value back to words\n",
    "\n",
    "context_vocab = np.array(context_text_preprocessor.get_vocabulary())\n",
    "tokens = context_vocab[example_tokens[0].numpy()]\n",
    "print(' '.join(tokens))\n",
    "\n",
    "\n",
    "target_vocab = np.array(target_text_preprocessor.get_vocabulary())\n",
    "tk2 = target_vocab[target_text_preprocessor(target_strings)[0].numpy()]\n",
    "print(' '.join(tk2))"
   ]
  },
  {
   "cell_type": "code",
   "execution_count": 20,
   "metadata": {},
   "outputs": [
    {
     "data": {
      "text/plain": [
       "Text(0.5, 1.0, 'Mask')"
      ]
     },
     "execution_count": 20,
     "metadata": {},
     "output_type": "execute_result"
    },
    {
     "data": {
      "image/png": "[encoded data removed]",
      "text/plain": [
       "<Figure size 640x480 with 2 Axes>"
      ]
     },
     "metadata": {},
     "output_type": "display_data"
    }
   ],
   "source": [
    "# visualization\n",
    "\n",
    "plt.subplot(1, 2, 1)\n",
    "plt.pcolormesh(example_tokens.to_tensor())\n",
    "plt.title('Token IDs')\n",
    "\n",
    "plt.subplot(1, 2, 2)\n",
    "plt.pcolormesh(example_tokens.to_tensor() != 0)\n",
    "plt.title('Mask')"
   ]
  },
  {
   "cell_type": "code",
   "execution_count": 21,
   "metadata": {},
   "outputs": [],
   "source": [
    "def process_text(context, target):\n",
    "    context = context_text_preprocessor(context).to_tensor()\n",
    "    target = target_text_preprocessor(target)\n",
    "    targ_in = target[:,:-1].to_tensor()\n",
    "    targ_out = target[:,1:].to_tensor()\n",
    "    return (context, targ_in), targ_out\n",
    "\n",
    "train_ds = train_set_raw.map(process_text, tf.data.AUTOTUNE)\n",
    "val_ds = val_set_raw.map(process_text, tf.data.AUTOTUNE)"
   ]
  },
  {
   "cell_type": "code",
   "execution_count": 39,
   "metadata": {},
   "outputs": [
    {
     "name": "stdout",
     "output_type": "stream",
     "text": [
      "[   2   33    1   63    6  241 1139    4    3    0]\n",
      "\n",
      "[   2    5    1   28   15  357 1863    4    0    0]\n",
      "[   5    1   28   15  357 1863    4    3    0    0]\n"
     ]
    }
   ],
   "source": [
    "for (ex_context_tok, ex_tar_in), ex_tar_out in train_ds.take(1):\n",
    "  print(ex_context_tok[0, :10].numpy()) \n",
    "  print()\n",
    "  print(ex_tar_in[0, :10].numpy()) \n",
    "  print(ex_tar_out[0, :10].numpy())"
   ]
  },
  {
   "cell_type": "code",
   "execution_count": null,
   "metadata": {},
   "outputs": [],
   "source": []
  },
  {
   "cell_type": "markdown",
   "metadata": {},
   "source": [
    "# ENCODER"
   ]
  },
  {
   "cell_type": "code",
   "execution_count": 32,
   "metadata": {},
   "outputs": [],
   "source": [
    "units = 256 #units of the rnn layer"
   ]
  },
  {
   "cell_type": "code",
   "execution_count": 54,
   "metadata": {},
   "outputs": [],
   "source": [
    "class Encoder(tf.keras.layers.Layer):\n",
    "    def __init__(self, text_preprocessor, units):\n",
    "        super(Encoder, self).__init__()\n",
    "        self.text_preprocessor = text_preprocessor\n",
    "        self.vocab_size = text_preprocessor.vocabulary_size()\n",
    "        self.units = units\n",
    "    \n",
    "\n",
    "        # The embedding layer converts tokens to vectors\n",
    "        self.embedding = tf.keras.layers.Embedding(self.vocab_size, units, mask_zero=True)\n",
    "\n",
    "        # The RNN layer processes those vectors sequentially.\n",
    "\n",
    "        # self.rnn = tf.keras.layers.LSTM(\n",
    "        #     units,\n",
    "        #     return_sequences=True,\n",
    "        #     recurrent_initializer='glorot_uniform'\n",
    "        # )\n",
    "\n",
    "        self.rnn = tf.keras.layers.Bidirectional(\n",
    "            layer=tf.keras.layers.GRU(\n",
    "                units,\n",
    "                return_sequences=True,\n",
    "                recurrent_initializer='glorot_uniform'\n",
    "            )\n",
    "        )\n",
    "\n",
    "\n",
    "    def call(self, x):\n",
    "        #shape_checker = ShapeChecker() # error : ShapeChecker missing\n",
    "        #shape_checker(x, 'batch s')\n",
    "\n",
    "        # 2. The embedding layer looks up the embedding vector for each token.\n",
    "        x = self.embedding(x)\n",
    "        #shape_checker(x, 'batch s units embedding')\n",
    "\n",
    "        # 3. The GRU processes the sequence of embeddings.\n",
    "        x = self.rnn(x)\n",
    "        #shape_checker(x, 'batch s units rnn')\n",
    "\n",
    "        # 4. Returns the new sequence of embeddings.\n",
    "        return x\n",
    "\n",
    "    def convert_input(self, texts):\n",
    "        texts = tf.convert_to_tensor(texts)\n",
    "\n",
    "        if len(texts.shape) == 0:\n",
    "            texts = tf.convert_to_tensor(texts)[tf.newaxis]\n",
    "        context = self.text_preprocessor(texts).to_tensor()\n",
    "        context = self(context)\n",
    "        return context"
   ]
  },
  {
   "cell_type": "code",
   "execution_count": 55,
   "metadata": {},
   "outputs": [
    {
     "name": "stdout",
     "output_type": "stream",
     "text": [
      "Context tokens, shape (batch, s): (64, 20)\n",
      "Encoder output, shape (batch, s, units): (64, 20, 512)\n"
     ]
    }
   ],
   "source": [
    "#testing\n",
    "\n",
    "encoder = Encoder(context_text_preprocessor, units)\n",
    "ex_context = encoder(ex_context_tok)\n",
    "\n",
    "print(f'Context tokens, shape (batch, s): {ex_context_tok.shape}')\n",
    "print(f'Encoder output, shape (batch, s, units): {ex_context.shape}')"
   ]
  },
  {
   "cell_type": "code",
   "execution_count": 37,
   "metadata": {},
   "outputs": [],
   "source": [
    "class CrossAttention(tf.keras.layers.Layer):\n",
    "    def __init__(self, units, **kwargs):\n",
    "        super().__init__()\n",
    "        self.mha = tf.keras.layers.MultiHeadAttention(key_dim=units, num_heads=1, **kwargs)\n",
    "        self.layernorm = tf.keras.layers.LayerNormalization()\n",
    "        self.add = tf.keras.layers.Add()\n",
    "\n",
    "    def call(self, x, context):\n",
    "\n",
    "        attn_output, attn_scores = self.mha(\n",
    "            query=x,\n",
    "            value=context,\n",
    "            return_attention_scores=True)\n",
    "\n",
    "        # Cache the attention scores for plotting later.\n",
    "        attn_scores = tf.reduce_mean(attn_scores, axis=1)\n",
    "\n",
    "        self.last_attention_weights = attn_scores\n",
    "\n",
    "        x = self.add([x, attn_output])\n",
    "        x = self.layernorm(x)\n",
    "\n",
    "        return x\n",
    "        \n",
    "        "
   ]
  },
  {
   "cell_type": "code",
   "execution_count": 56,
   "metadata": {},
   "outputs": [
    {
     "name": "stdout",
     "output_type": "stream",
     "text": [
      "Context sequence, shape (batch, s, units): (64, 20, 512)\n",
      "Target sequence, shape (batch, t, units): (64, 17, 256)\n",
      "Attention result, shape (batch, t, units): (64, 17, 256)\n",
      "Attention weights, shape (batch, t, s):    (64, 17, 20)\n"
     ]
    }
   ],
   "source": [
    "attention_layer = CrossAttention(units)\n",
    "\n",
    "# Attend to the encoded tokens\n",
    "embed = tf.keras.layers.Embedding(target_text_preprocessor.vocabulary_size(),\n",
    "                                  output_dim=units, mask_zero=True)\n",
    "\n",
    "\n",
    "ex_tar_embed = embed(ex_tar_in)\n",
    "\n",
    "result = attention_layer(ex_tar_embed, ex_context)\n",
    "\n",
    "print(f'Context sequence, shape (batch, s, units): {ex_context.shape}')\n",
    "print(f'Target sequence, shape (batch, t, units): {ex_tar_embed.shape}')\n",
    "print(f'Attention result, shape (batch, t, units): {result.shape}')\n",
    "print(f'Attention weights, shape (batch, t, s):    {attention_layer.last_attention_weights.shape}')"
   ]
  },
  {
   "cell_type": "code",
   "execution_count": 45,
   "metadata": {},
   "outputs": [
    {
     "data": {
      "text/plain": [
       "array([1.       , 1.       , 1.       , 1.0000001, 1.       , 0.9999999,\n",
       "       1.       , 1.       , 1.       , 1.       , 1.       , 1.       ,\n",
       "       1.       , 1.       , 1.       , 1.       , 1.       ],\n",
       "      dtype=float32)"
      ]
     },
     "execution_count": 45,
     "metadata": {},
     "output_type": "execute_result"
    }
   ],
   "source": [
    "#check attention layer sum, \n",
    "# The attention weights will sum to 1 over the context sequence, at each location in the target sequence.\n",
    "attention_layer.last_attention_weights[0].numpy().sum(axis=-1)"
   ]
  },
  {
   "cell_type": "code",
   "execution_count": 46,
   "metadata": {},
   "outputs": [
    {
     "data": {
      "image/png": "[encoded data removed]",
      "text/plain": [
       "<Figure size 640x480 with 2 Axes>"
      ]
     },
     "metadata": {},
     "output_type": "display_data"
    }
   ],
   "source": [
    "# plot attention weight\n",
    "attention_weights = attention_layer.last_attention_weights\n",
    "mask=(ex_context_tok != 0).numpy()\n",
    "\n",
    "plt.subplot(1, 2, 1)\n",
    "plt.pcolormesh(mask*attention_weights[:, 0, :])\n",
    "plt.title('Attention weights')\n",
    "\n",
    "plt.subplot(1, 2, 2)\n",
    "plt.pcolormesh(mask)\n",
    "plt.title('Mask');"
   ]
  },
  {
   "cell_type": "code",
   "execution_count": 47,
   "metadata": {},
   "outputs": [],
   "source": [
    "class Decoder(tf.keras.layers.Layer):\n",
    "    @classmethod\n",
    "    def add_method(cls, fun):\n",
    "        setattr(cls, fun.__name__, fun)\n",
    "        return fun\n",
    "\n",
    "    def __init__(self, text_processor, units):\n",
    "        super(Decoder, self).__init__()\n",
    "        self.text_processor = text_processor\n",
    "        self.vocab_size = text_processor.vocabulary_size()\n",
    "        self.word_to_id = tf.keras.layers.StringLookup(\n",
    "            vocabulary=text_processor.get_vocabulary(),\n",
    "            mask_token='', oov_token='[UNK]')\n",
    "        self.id_to_word = tf.keras.layers.StringLookup(\n",
    "            vocabulary=text_processor.get_vocabulary(),\n",
    "            mask_token='', oov_token='[UNK]',\n",
    "            invert=True)\n",
    "        self.start_token = self.word_to_id('[START]')\n",
    "        self.end_token = self.word_to_id('[END]')\n",
    "\n",
    "        self.units = units\n",
    "\n",
    "        # 1. The embedding layer converts token IDs to vectors\n",
    "        self.embedding = tf.keras.layers.Embedding(self.vocab_size,\n",
    "                                                units, mask_zero=True)\n",
    "\n",
    "        # 2. The RNN keeps track of what's been generated so far.\n",
    "        self.rnn = tf.keras.layers.GRU(units,\n",
    "                                    return_sequences=True,\n",
    "                                    return_state=True,\n",
    "                                    recurrent_initializer='glorot_uniform')\n",
    "\n",
    "        # 3. The RNN output will be the query for the attention layer.\n",
    "        self.attention = CrossAttention(units)\n",
    "\n",
    "        # 4. This fully connected layer produces the logits for each\n",
    "        # output token.\n",
    "        self.output_layer = tf.keras.layers.Dense(self.vocab_size)\n"
   ]
  },
  {
   "cell_type": "code",
   "execution_count": 48,
   "metadata": {},
   "outputs": [],
   "source": [
    "@Decoder.add_method\n",
    "def call(self,\n",
    "            context, x,\n",
    "            state=None,\n",
    "            return_state=False):  \n",
    "    # shape_checker = ShapeChecker()\n",
    "    # shape_checker(x, 'batch t')\n",
    "    # shape_checker(context, 'batch s units')\n",
    "\n",
    "    # 1. Lookup the embeddings\n",
    "    x = self.embedding(x)\n",
    "    # shape_checker(x, 'batch t units')\n",
    "\n",
    "    # 2. Process the target sequence.\n",
    "    x, state = self.rnn(x, initial_state=state)\n",
    "    # shape_checker(x, 'batch t units')\n",
    "\n",
    "    # 3. Use the RNN output as the query for the attention over the context.\n",
    "    x = self.attention(x, context)\n",
    "    self.last_attention_weights = self.attention.last_attention_weights\n",
    "    # shape_checker(x, 'batch t units')\n",
    "    # shape_checker(self.last_attention_weights, 'batch t s')\n",
    "\n",
    "    # Step 4. Generate logit predictions for the next token.\n",
    "    logits = self.output_layer(x)\n",
    "    # shape_checker(logits, 'batch t target_vocab_size')\n",
    "\n",
    "    if return_state:\n",
    "        return logits, state\n",
    "    else:\n",
    "        return logits"
   ]
  },
  {
   "cell_type": "code",
   "execution_count": 49,
   "metadata": {},
   "outputs": [],
   "source": [
    "decoder = Decoder(target_text_preprocessor, units)"
   ]
  },
  {
   "cell_type": "code",
   "execution_count": 57,
   "metadata": {},
   "outputs": [
    {
     "name": "stdout",
     "output_type": "stream",
     "text": [
      "encoder output shape: (batch, s, units) (64, 20, 512)\n",
      "input target tokens shape: (batch, t) (64, 17)\n",
      "logits shape shape: (batch, target_vocabulary_size) (64, 17, 5000)\n"
     ]
    }
   ],
   "source": [
    "logits = decoder(ex_context, ex_tar_in)\n",
    "\n",
    "print(f'encoder output shape: (batch, s, units) {ex_context.shape}')\n",
    "print(f'input target tokens shape: (batch, t) {ex_tar_in.shape}')\n",
    "print(f'logits shape shape: (batch, target_vocabulary_size) {logits.shape}')"
   ]
  },
  {
   "cell_type": "code",
   "execution_count": 58,
   "metadata": {},
   "outputs": [],
   "source": [
    "@Decoder.add_method\n",
    "def get_initial_state(self, context):\n",
    "    batch_size = tf.shape(context)[0]\n",
    "    start_tokens = tf.fill([batch_size, 1], self.start_token)\n",
    "    done = tf.zeros([batch_size, 1], dtype=tf.bool)\n",
    "    embedded = self.embedding(start_tokens)\n",
    "    return start_tokens, done, self.rnn.get_initial_state(embedded)[0]"
   ]
  },
  {
   "cell_type": "code",
   "execution_count": 60,
   "metadata": {},
   "outputs": [],
   "source": [
    "@Decoder.add_method\n",
    "def tokens_to_text(self, tokens):\n",
    "    words = self.id_to_word(tokens)\n",
    "    result = tf.strings.reduce_join(words, axis=-1, separator=' ')\n",
    "    result = tf.strings.regex_replace(result, '^ *\\[START\\] *', '')\n",
    "    result = tf.strings.regex_replace(result, ' *\\[END\\] *$', '')\n",
    "    return result"
   ]
  },
  {
   "cell_type": "code",
   "execution_count": 61,
   "metadata": {},
   "outputs": [],
   "source": [
    "@Decoder.add_method\n",
    "def get_next_token(self, context, next_token, done, state, temperature = 0.0):\n",
    "    logits, state = self(\n",
    "        context, next_token,\n",
    "        state = state,\n",
    "        return_state=True) \n",
    "\n",
    "    if temperature == 0.0:\n",
    "        next_token = tf.argmax(logits, axis=-1)\n",
    "    else:\n",
    "        logits = logits[:, -1, :]/temperature\n",
    "        next_token = tf.random.categorical(logits, num_samples=1)\n",
    "\n",
    "    # If a sequence produces an `end_token`, set it `done`\n",
    "    done = done | (next_token == self.end_token)\n",
    "    # Once a sequence is done it only produces 0-padding.\n",
    "    next_token = tf.where(done, tf.constant(0, dtype=tf.int64), next_token)\n",
    "\n",
    "    return next_token, done, state"
   ]
  },
  {
   "cell_type": "code",
   "execution_count": 62,
   "metadata": {},
   "outputs": [
    {
     "data": {
      "text/plain": [
       "array([b'official adults weekends bought rarely relax terrific ordered very assure',\n",
       "       b'become coast held rain brains phone catches explaining master closer',\n",
       "       b'hurricane based document cheerful maybe knitting advantage broom head fulltime'],\n",
       "      dtype=object)"
      ]
     },
     "execution_count": 62,
     "metadata": {},
     "output_type": "execute_result"
    }
   ],
   "source": [
    "# Setup the loop variables.\n",
    "next_token, done, state = decoder.get_initial_state(ex_context)\n",
    "tokens = []\n",
    "\n",
    "for n in range(10):\n",
    "    # Run one step.\n",
    "    next_token, done, state = decoder.get_next_token(\n",
    "        ex_context, next_token, done, state, temperature=1.0)\n",
    "    # Add the token to the output.\n",
    "    tokens.append(next_token)\n",
    "\n",
    "# Stack all the tokens together.\n",
    "tokens = tf.concat(tokens, axis=-1) # (batch, t)\n",
    "\n",
    "# Convert the tokens back to a a string\n",
    "result = decoder.tokens_to_text(tokens)\n",
    "result[:3].numpy()"
   ]
  },
  {
   "cell_type": "code",
   "execution_count": 63,
   "metadata": {},
   "outputs": [],
   "source": [
    "class Translator(tf.keras.Model):\n",
    "    @classmethod\n",
    "    def add_method(cls, fun):\n",
    "        setattr(cls, fun.__name__, fun)\n",
    "        return fun\n",
    "\n",
    "    def __init__(self, units,\n",
    "                context_text_processor,\n",
    "                target_text_processor):\n",
    "        super().__init__()\n",
    "        # Build the encoder and decoder\n",
    "        encoder = Encoder(context_text_processor, units)\n",
    "        decoder = Decoder(target_text_processor, units)\n",
    "\n",
    "        self.encoder = encoder\n",
    "        self.decoder = decoder\n",
    "\n",
    "    def call(self, inputs):\n",
    "        context, x = inputs\n",
    "        context = self.encoder(context)\n",
    "        logits = self.decoder(context, x)\n",
    "\n",
    "        try:\n",
    "            # Delete the keras mask, so keras doesn't scale the loss+accuracy. \n",
    "            del logits._keras_mask\n",
    "        except AttributeError:\n",
    "            pass\n",
    "\n",
    "        return logits"
   ]
  },
  {
   "cell_type": "code",
   "execution_count": 65,
   "metadata": {},
   "outputs": [
    {
     "name": "stdout",
     "output_type": "stream",
     "text": [
      "Context tokens, shape: (batch, s, units) (64, 20)\n",
      "Target tokens, shape: (batch, t) (64, 17)\n",
      "logits, shape: (batch, t, target_vocabulary_size) (64, 17, 5000)\n"
     ]
    }
   ],
   "source": [
    "#training precheck\n",
    "model = Translator(units, context_text_preprocessor, target_text_preprocessor)\n",
    "\n",
    "logits = model((ex_context_tok, ex_tar_in))\n",
    "\n",
    "print(f'Context tokens, shape: (batch, s, units) {ex_context_tok.shape}')\n",
    "print(f'Target tokens, shape: (batch, t) {ex_tar_in.shape}')\n",
    "print(f'logits, shape: (batch, t, target_vocabulary_size) {logits.shape}')"
   ]
  },
  {
   "cell_type": "code",
   "execution_count": 66,
   "metadata": {},
   "outputs": [],
   "source": [
    "def masked_loss(y_true, y_pred):\n",
    "    # Calculate the loss for each item in the batch.\n",
    "    loss_fn = tf.keras.losses.SparseCategoricalCrossentropy(\n",
    "        from_logits=True, reduction='none')\n",
    "    loss = loss_fn(y_true, y_pred)\n",
    "\n",
    "    # Mask off the losses on padding.\n",
    "    mask = tf.cast(y_true != 0, loss.dtype)\n",
    "    loss *= mask\n",
    "\n",
    "    # Return the total.\n",
    "    return tf.reduce_sum(loss)/tf.reduce_sum(mask)"
   ]
  },
  {
   "cell_type": "code",
   "execution_count": 67,
   "metadata": {},
   "outputs": [],
   "source": [
    "def masked_acc(y_true, y_pred):\n",
    "    # Calculate the loss for each item in the batch.\n",
    "    y_pred = tf.argmax(y_pred, axis=-1)\n",
    "    y_pred = tf.cast(y_pred, y_true.dtype)\n",
    "\n",
    "    match = tf.cast(y_true == y_pred, tf.float32)\n",
    "    mask = tf.cast(y_true != 0, tf.float32)\n",
    "\n",
    "    return tf.reduce_sum(match)/tf.reduce_sum(mask)"
   ]
  },
  {
   "cell_type": "code",
   "execution_count": 68,
   "metadata": {},
   "outputs": [],
   "source": [
    "model.compile(optimizer='adam',\n",
    "              loss=masked_loss, \n",
    "              metrics=[masked_acc, masked_loss])"
   ]
  },
  {
   "attachments": {},
   "cell_type": "markdown",
   "metadata": {},
   "source": [
    "## Training precheck"
   ]
  },
  {
   "cell_type": "code",
   "execution_count": 69,
   "metadata": {},
   "outputs": [
    {
     "data": {
      "text/plain": [
       "{'expected_loss': 8.517193, 'expected_acc': 0.0002}"
      ]
     },
     "execution_count": 69,
     "metadata": {},
     "output_type": "execute_result"
    }
   ],
   "source": [
    "vocab_size = 1.0 * target_text_preprocessor.vocabulary_size()\n",
    "\n",
    "{\"expected_loss\": tf.math.log(vocab_size).numpy(),\n",
    " \"expected_acc\": 1/vocab_size}"
   ]
  },
  {
   "cell_type": "code",
   "execution_count": 70,
   "metadata": {},
   "outputs": [
    {
     "name": "stdout",
     "output_type": "stream",
     "text": [
      "20/20 [==============================] - 4s 15ms/step - loss: 8.5210 - masked_acc: 0.0000e+00 - masked_loss: 8.5210\n"
     ]
    },
    {
     "data": {
      "text/plain": [
       "{'loss': 8.52100944519043, 'masked_acc': 0.0, 'masked_loss': 8.52100944519043}"
      ]
     },
     "execution_count": 70,
     "metadata": {},
     "output_type": "execute_result"
    }
   ],
   "source": [
    "model.evaluate(val_ds, steps=20, return_dict=True)"
   ]
  },
  {
   "cell_type": "code",
   "execution_count": 71,
   "metadata": {},
   "outputs": [
    {
     "name": "stdout",
     "output_type": "stream",
     "text": [
      "Epoch 1/100\n",
      "100/100 [==============================] - 10s 33ms/step - loss: 5.0249 - masked_acc: 0.2649 - masked_loss: 5.0249 - val_loss: 4.0844 - val_masked_acc: 0.3512 - val_masked_loss: 4.0844\n",
      "Epoch 2/100\n",
      "100/100 [==============================] - 3s 30ms/step - loss: 3.6611 - masked_acc: 0.4109 - masked_loss: 3.6611 - val_loss: 3.3147 - val_masked_acc: 0.4522 - val_masked_loss: 3.3147\n",
      "Epoch 3/100\n",
      "100/100 [==============================] - 3s 30ms/step - loss: 3.0773 - masked_acc: 0.4900 - masked_loss: 3.0773 - val_loss: 2.8630 - val_masked_acc: 0.5187 - val_masked_loss: 2.8630\n",
      "Epoch 4/100\n",
      "100/100 [==============================] - 3s 30ms/step - loss: 2.6592 - masked_acc: 0.5441 - masked_loss: 2.6592 - val_loss: 2.4860 - val_masked_acc: 0.5672 - val_masked_loss: 2.4860\n",
      "Epoch 5/100\n",
      "100/100 [==============================] - 3s 30ms/step - loss: 2.3315 - masked_acc: 0.5947 - masked_loss: 2.3315 - val_loss: 2.2404 - val_masked_acc: 0.6155 - val_masked_loss: 2.2404\n",
      "Epoch 6/100\n",
      "100/100 [==============================] - 3s 30ms/step - loss: 2.0983 - masked_acc: 0.6277 - masked_loss: 2.0983 - val_loss: 1.9772 - val_masked_acc: 0.6462 - val_masked_loss: 1.9772\n",
      "Epoch 7/100\n",
      "100/100 [==============================] - 3s 29ms/step - loss: 1.9164 - masked_acc: 0.6548 - masked_loss: 1.9164 - val_loss: 1.8404 - val_masked_acc: 0.6557 - val_masked_loss: 1.8404\n",
      "Epoch 8/100\n",
      "100/100 [==============================] - 3s 30ms/step - loss: 1.8096 - masked_acc: 0.6668 - masked_loss: 1.8096 - val_loss: 1.7545 - val_masked_acc: 0.6708 - val_masked_loss: 1.7545\n",
      "Epoch 9/100\n",
      "100/100 [==============================] - 3s 30ms/step - loss: 1.7265 - masked_acc: 0.6783 - masked_loss: 1.7265 - val_loss: 1.6601 - val_masked_acc: 0.6879 - val_masked_loss: 1.6601\n",
      "Epoch 10/100\n",
      "100/100 [==============================] - 3s 30ms/step - loss: 1.6531 - masked_acc: 0.6887 - masked_loss: 1.6531 - val_loss: 1.6250 - val_masked_acc: 0.6941 - val_masked_loss: 1.6250\n",
      "Epoch 11/100\n",
      "100/100 [==============================] - 3s 30ms/step - loss: 1.5638 - masked_acc: 0.6997 - masked_loss: 1.5638 - val_loss: 1.6051 - val_masked_acc: 0.6930 - val_masked_loss: 1.6051\n",
      "Epoch 12/100\n",
      "100/100 [==============================] - 3s 30ms/step - loss: 1.5180 - masked_acc: 0.7061 - masked_loss: 1.5180 - val_loss: 1.5169 - val_masked_acc: 0.7102 - val_masked_loss: 1.5169\n",
      "Epoch 13/100\n",
      "100/100 [==============================] - 3s 30ms/step - loss: 1.4852 - masked_acc: 0.7114 - masked_loss: 1.4852 - val_loss: 1.4539 - val_masked_acc: 0.7138 - val_masked_loss: 1.4539\n",
      "Epoch 14/100\n",
      "100/100 [==============================] - 3s 30ms/step - loss: 1.4340 - masked_acc: 0.7198 - masked_loss: 1.4340 - val_loss: 1.4439 - val_masked_acc: 0.7193 - val_masked_loss: 1.4439\n",
      "Epoch 15/100\n",
      "100/100 [==============================] - 3s 32ms/step - loss: 1.3859 - masked_acc: 0.7232 - masked_loss: 1.3870 - val_loss: 1.3517 - val_masked_acc: 0.7315 - val_masked_loss: 1.3517\n",
      "Epoch 16/100\n",
      "100/100 [==============================] - 3s 31ms/step - loss: 1.1704 - masked_acc: 0.7524 - masked_loss: 1.1704 - val_loss: 1.3829 - val_masked_acc: 0.7232 - val_masked_loss: 1.3829\n",
      "Epoch 17/100\n",
      "100/100 [==============================] - 3s 32ms/step - loss: 1.1790 - masked_acc: 0.7517 - masked_loss: 1.1790 - val_loss: 1.3677 - val_masked_acc: 0.7233 - val_masked_loss: 1.3677\n",
      "Epoch 18/100\n",
      "100/100 [==============================] - 3s 32ms/step - loss: 1.1661 - masked_acc: 0.7527 - masked_loss: 1.1661 - val_loss: 1.2979 - val_masked_acc: 0.7418 - val_masked_loss: 1.2979\n",
      "Epoch 19/100\n",
      "100/100 [==============================] - 3s 32ms/step - loss: 1.1685 - masked_acc: 0.7521 - masked_loss: 1.1685 - val_loss: 1.3363 - val_masked_acc: 0.7313 - val_masked_loss: 1.3363\n",
      "Epoch 20/100\n",
      "100/100 [==============================] - 3s 31ms/step - loss: 1.1383 - masked_acc: 0.7604 - masked_loss: 1.1383 - val_loss: 1.2733 - val_masked_acc: 0.7434 - val_masked_loss: 1.2733\n",
      "Epoch 21/100\n",
      "100/100 [==============================] - 3s 32ms/step - loss: 1.1593 - masked_acc: 0.7514 - masked_loss: 1.1593 - val_loss: 1.2833 - val_masked_acc: 0.7348 - val_masked_loss: 1.2833\n",
      "Epoch 22/100\n",
      "100/100 [==============================] - 3s 32ms/step - loss: 1.1566 - masked_acc: 0.7566 - masked_loss: 1.1566 - val_loss: 1.2590 - val_masked_acc: 0.7460 - val_masked_loss: 1.2590\n",
      "Epoch 23/100\n",
      "100/100 [==============================] - 3s 32ms/step - loss: 1.1522 - masked_acc: 0.7565 - masked_loss: 1.1522 - val_loss: 1.2766 - val_masked_acc: 0.7414 - val_masked_loss: 1.2766\n",
      "Epoch 24/100\n",
      "100/100 [==============================] - 3s 32ms/step - loss: 1.1445 - masked_acc: 0.7576 - masked_loss: 1.1445 - val_loss: 1.2953 - val_masked_acc: 0.7383 - val_masked_loss: 1.2953\n",
      "Epoch 25/100\n",
      "100/100 [==============================] - 3s 32ms/step - loss: 1.1342 - masked_acc: 0.7586 - masked_loss: 1.1342 - val_loss: 1.2661 - val_masked_acc: 0.7445 - val_masked_loss: 1.2661\n",
      "Epoch 26/100\n",
      "100/100 [==============================] - 3s 32ms/step - loss: 1.1390 - masked_acc: 0.7571 - masked_loss: 1.1390 - val_loss: 1.2251 - val_masked_acc: 0.7474 - val_masked_loss: 1.2251\n",
      "Epoch 27/100\n",
      "100/100 [==============================] - 3s 32ms/step - loss: 1.1489 - masked_acc: 0.7610 - masked_loss: 1.1489 - val_loss: 1.1795 - val_masked_acc: 0.7537 - val_masked_loss: 1.1795\n",
      "Epoch 28/100\n",
      "100/100 [==============================] - 3s 32ms/step - loss: 1.0995 - masked_acc: 0.7625 - masked_loss: 1.0995 - val_loss: 1.1574 - val_masked_acc: 0.7555 - val_masked_loss: 1.1574\n",
      "Epoch 29/100\n",
      "100/100 [==============================] - 3s 32ms/step - loss: 1.1110 - masked_acc: 0.7630 - masked_loss: 1.1110 - val_loss: 1.1654 - val_masked_acc: 0.7586 - val_masked_loss: 1.1654\n",
      "Epoch 30/100\n",
      "100/100 [==============================] - 3s 32ms/step - loss: 1.0770 - masked_acc: 0.7682 - masked_loss: 1.0763 - val_loss: 1.2054 - val_masked_acc: 0.7475 - val_masked_loss: 1.2054\n",
      "Epoch 31/100\n",
      "100/100 [==============================] - 3s 32ms/step - loss: 0.8639 - masked_acc: 0.7991 - masked_loss: 0.8639 - val_loss: 1.2062 - val_masked_acc: 0.7549 - val_masked_loss: 1.2062\n",
      "Epoch 32/100\n",
      "100/100 [==============================] - 3s 31ms/step - loss: 0.8890 - masked_acc: 0.7950 - masked_loss: 0.8890 - val_loss: 1.1935 - val_masked_acc: 0.7564 - val_masked_loss: 1.1935\n"
     ]
    }
   ],
   "source": [
    "history = model.fit(\n",
    "    train_ds.repeat(), \n",
    "    epochs=100,\n",
    "    steps_per_epoch = 100,\n",
    "    validation_data=val_ds,\n",
    "    validation_steps = 20,\n",
    "    callbacks=[\n",
    "        tf.keras.callbacks.EarlyStopping(patience=4)])"
   ]
  },
  {
   "cell_type": "code",
   "execution_count": 72,
   "metadata": {},
   "outputs": [
    {
     "data": {
      "text/plain": [
       "<matplotlib.legend.Legend at 0x2a864531bb0>"
      ]
     },
     "execution_count": 72,
     "metadata": {},
     "output_type": "execute_result"
    },
    {
     "data": {
      "image/png": "[encoded data removed]",
      "text/plain": [
       "<Figure size 640x480 with 1 Axes>"
      ]
     },
     "metadata": {},
     "output_type": "display_data"
    }
   ],
   "source": [
    "#plotting training history\n",
    "plt.plot(history.history['loss'], label='loss')\n",
    "plt.plot(history.history['val_loss'], label='val_loss')\n",
    "plt.ylim([0, max(plt.ylim())])\n",
    "plt.xlabel('Epoch #')\n",
    "plt.ylabel('CE/token')\n",
    "plt.legend()"
   ]
  },
  {
   "cell_type": "code",
   "execution_count": 73,
   "metadata": {},
   "outputs": [
    {
     "data": {
      "text/plain": [
       "<matplotlib.legend.Legend at 0x2a253f0ed30>"
      ]
     },
     "execution_count": 73,
     "metadata": {},
     "output_type": "execute_result"
    },
    {
     "data": {
      "image/png": "[encoded data removed]",
      "text/plain": [
       "<Figure size 640x480 with 1 Axes>"
      ]
     },
     "metadata": {},
     "output_type": "display_data"
    }
   ],
   "source": [
    "plt.plot(history.history['masked_acc'], label='accuracy')\n",
    "plt.plot(history.history['val_masked_acc'], label='val_accuracy')\n",
    "plt.ylim([0, max(plt.ylim())])\n",
    "plt.xlabel('Epoch #')\n",
    "plt.ylabel('CE/token')\n",
    "plt.legend()"
   ]
  },
  {
   "cell_type": "code",
   "execution_count": 75,
   "metadata": {},
   "outputs": [
    {
     "ename": "AttributeError",
     "evalue": "'Translator' object has no attribute 'tokens_to_text'",
     "output_type": "error",
     "traceback": [
      "\u001b[1;31m---------------------------------------------------------------------------\u001b[0m",
      "\u001b[1;31mAttributeError\u001b[0m                            Traceback (most recent call last)",
      "\u001b[1;32mf:\\program repo\\NLP-translation\\nmt.ipynb Cell 51\u001b[0m in \u001b[0;36m<cell line: 1>\u001b[1;34m()\u001b[0m\n\u001b[1;32m----> <a href='vscode-notebook-cell:/f%3A/program%20repo/NLP-translation/nmt.ipynb#Y101sZmlsZQ%3D%3D?line=0'>1</a>\u001b[0m result \u001b[39m=\u001b[39m model\u001b[39m.\u001b[39;49mtokens_to_text([\u001b[39m'\u001b[39m\u001b[39m¿Todavía está en casa?\u001b[39m\u001b[39m'\u001b[39m]) \u001b[39m# Are you still home\u001b[39;00m\n\u001b[0;32m      <a href='vscode-notebook-cell:/f%3A/program%20repo/NLP-translation/nmt.ipynb#Y101sZmlsZQ%3D%3D?line=1'>2</a>\u001b[0m result[\u001b[39m0\u001b[39m]\u001b[39m.\u001b[39mnumpy()\u001b[39m.\u001b[39mdecode()\n",
      "\u001b[1;31mAttributeError\u001b[0m: 'Translator' object has no attribute 'tokens_to_text'"
     ]
    }
   ],
   "source": [
    "result = model.tokens_to_text(['¿Todavía está en casa?']) # Are you still home\n",
    "result[0].numpy().decode()"
   ]
  },
  {
   "cell_type": "code",
   "execution_count": null,
   "metadata": {},
   "outputs": [],
   "source": []
  }
 ],
 "metadata": {
  "kernelspec": {
   "display_name": "Python 3.9.13 ('tf')",
   "language": "python",
   "name": "python3"
  },
  "language_info": {
   "codemirror_mode": {
    "name": "ipython",
    "version": 3
   },
   "file_extension": ".py",
   "mimetype": "text/x-python",
   "name": "python",
   "nbconvert_exporter": "python",
   "pygments_lexer": "ipython3",
   "version": "3.9.13"
  },
  "orig_nbformat": 4,
  "vscode": {
   "interpreter": {
    "hash": "ec537239728ac8893588346e27b155988a5267d59b4461281b8b4e768c153fd9"
   }
  }
 },
 "nbformat": 4,
 "nbformat_minor": 2
}
