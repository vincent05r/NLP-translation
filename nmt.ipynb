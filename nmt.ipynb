{
 "cells": [
  {
   "cell_type": "code",
   "execution_count": 1,
   "metadata": {},
   "outputs": [],
   "source": [
    "import numpy as np\n",
    "\n",
    "import typing\n",
    "from typing import Any, Tuple\n",
    "\n",
    "import einops\n",
    "import matplotlib.pyplot as plt\n",
    "import matplotlib.ticker as ticker\n",
    "\n",
    "import tensorflow as tf\n",
    "import tensorflow_text as tf_text\n",
    "\n",
    "import pathlib\n",
    "import os, sys\n"
   ]
  },
  {
   "cell_type": "code",
   "execution_count": 2,
   "metadata": {},
   "outputs": [],
   "source": [
    "# data download\n",
    "\n",
    "\n",
    "# path_2_zip = tf.keras.utils.get_file('spa-eng.zip', origin='http://storage.googleapis.com/download.tensorflow.org/data/spa-eng.zip',\n",
    "#     extract=True)\n",
    "\n",
    "# path_2_file = pathlib.Path(path_2_zip).parent/'spa-eng/spa.txt'\n",
    "\n",
    "# print(path_2_file)\n",
    "# print(path_2_zip)"
   ]
  },
  {
   "cell_type": "code",
   "execution_count": 3,
   "metadata": {},
   "outputs": [
    {
     "name": "stdout",
     "output_type": "stream",
     "text": [
      "F:\\program repo\\NLP-translation\\dataset\\spa.txt\n"
     ]
    }
   ],
   "source": [
    "#data path\n",
    "fileDir = os.path.dirname(os.path.realpath('__file__'))\n",
    "filename = pathlib.Path(os.path.join(fileDir, r\"dataset\\spa.txt\"))\n",
    "\n",
    "print(filename)"
   ]
  },
  {
   "cell_type": "code",
   "execution_count": 4,
   "metadata": {},
   "outputs": [],
   "source": [
    "def load_data(path):\n",
    "    text = path.read_text(encoding='utf-8')\n",
    "\n",
    "    lines = text.splitlines()\n",
    "    pairs = [line.split('\\t') for line in lines]\n",
    "\n",
    "    context = np.array([context for target, context in pairs])\n",
    "    target = np.array([target for target, context in pairs])\n",
    "\n",
    "    return target, context\n",
    "\n"
   ]
  },
  {
   "cell_type": "code",
   "execution_count": 5,
   "metadata": {},
   "outputs": [],
   "source": [
    "target_raw, context_raw = load_data(filename)"
   ]
  },
  {
   "cell_type": "code",
   "execution_count": 6,
   "metadata": {},
   "outputs": [
    {
     "name": "stdout",
     "output_type": "stream",
     "text": [
      "Go.\n",
      "Ve.\n"
     ]
    }
   ],
   "source": [
    "#check data\n",
    "print(target_raw[0])\n",
    "print(context_raw[0])"
   ]
  },
  {
   "cell_type": "code",
   "execution_count": 7,
   "metadata": {},
   "outputs": [],
   "source": [
    "#meta data\n",
    "\n",
    "max_vocab_size = 5000\n",
    "\n",
    "buffer_size = len(context_raw)\n",
    "batch_size = 64\n",
    "\n",
    "train_set_proportion = 0.8\n",
    "\n",
    "is_train = np.random.uniform(size=(len(target_raw), )) < train_set_proportion\n",
    "\n"
   ]
  },
  {
   "cell_type": "code",
   "execution_count": 8,
   "metadata": {},
   "outputs": [],
   "source": [
    "#set up tf dataset\n",
    "train_set_raw = (\n",
    "    tf.data.Dataset.from_tensor_slices((context_raw[is_train], target_raw[is_train]))\n",
    "    .shuffle(buffer_size)\n",
    "    .batch(batch_size)\n",
    ")\n",
    "\n",
    "val_set_raw = (\n",
    "    tf.data.Dataset.from_tensor_slices((context_raw[~is_train], target_raw[~is_train]))\n",
    "    .shuffle(buffer_size)\n",
    "    .batch(batch_size)\n",
    ")"
   ]
  },
  {
   "cell_type": "code",
   "execution_count": 9,
   "metadata": {},
   "outputs": [
    {
     "name": "stdout",
     "output_type": "stream",
     "text": [
      "tf.Tensor(\n",
      "[b'Ella dej\\xc3\\xb3 su trabajo el mes pasado.'\n",
      " b'Yo necesito que me lleven.' b'La ni\\xc3\\xb1a es chica para su edad.'\n",
      " b'Reportamos su desaparici\\xc3\\xb3n.' b'Yo nunca vi un OVNI.'\n",
      " b'\\xc3\\x89l se qued\\xc3\\xb3 despierto toda la noche.'], shape=(6,), dtype=string)\n",
      "\n",
      "tf.Tensor(\n",
      "[b'She quit her job last month.' b'I need a ride.'\n",
      " b'The girl is small for her age.' b'We reported his disappearance.'\n",
      " b'I myself have never seen a UFO.' b'He stayed up all night.'], shape=(6,), dtype=string)\n"
     ]
    }
   ],
   "source": [
    "#data check\n",
    "\n",
    "for context_strings, target_strings in train_set_raw.take(1):\n",
    "    print(context_strings[:6])\n",
    "    print()\n",
    "    print(target_strings[:6])\n",
    "    break"
   ]
  },
  {
   "cell_type": "code",
   "execution_count": 10,
   "metadata": {},
   "outputs": [],
   "source": [
    "def tf_lower_and_split_punct(text):\n",
    "    #split accented characters\n",
    "    text = tf_text.normalize_utf8(text, 'NFKD') #NFKD is one of the normalization format defined in unicode convention\n",
    "    text = tf.strings.lower(text)\n",
    "    # Keep space, a to z, and select punctuation.\n",
    "    text = tf.strings.regex_replace(text, '[^ a-z.?!,¿]', '')\n",
    "    # Add spaces around punctuation.\n",
    "    text = tf.strings.regex_replace(text, '[.?!,¿]', r' \\0 ')\n",
    "    # Strip whitespace.\n",
    "    text = tf.strings.strip(text)\n",
    "\n",
    "    text = tf.strings.join(['[START]', text, '[END]'], separator=' ')\n",
    "    return text\n"
   ]
  },
  {
   "cell_type": "code",
   "execution_count": 11,
   "metadata": {},
   "outputs": [
    {
     "name": "stdout",
     "output_type": "stream",
     "text": [
      "b'\\xc2\\xbfTodav\\xc3\\xada est\\xc3\\xa1 en casa?'\n",
      "b'\\xc2\\xbfTodavi\\xcc\\x81a esta\\xcc\\x81 en casa?'\n",
      "¿Todavía está en casa?\n",
      "[START] ¿ todavia esta en casa ? [END]\n"
     ]
    }
   ],
   "source": [
    "#check\n",
    "\n",
    "example_text = tf.constant('¿Todavía está en casa?')\n",
    "\n",
    "print(example_text.numpy())\n",
    "print(tf_text.normalize_utf8(example_text, 'NFKD').numpy())\n",
    "\n",
    "print(example_text.numpy().decode())\n",
    "\n",
    "print(tf_lower_and_split_punct(example_text).numpy().decode())"
   ]
  },
  {
   "cell_type": "code",
   "execution_count": 12,
   "metadata": {},
   "outputs": [],
   "source": [
    "#Text vectoriazation\n",
    "\n",
    "context_text_preprocessor = tf.keras.layers.TextVectorization(\n",
    "    standardize=tf_lower_and_split_punct,\n",
    "    max_tokens=max_vocab_size,\n",
    "    ragged=True\n",
    ")"
   ]
  },
  {
   "cell_type": "code",
   "execution_count": 13,
   "metadata": {},
   "outputs": [],
   "source": [
    "context_text_preprocessor.adapt(train_set_raw.map(lambda context, target: context))"
   ]
  },
  {
   "cell_type": "code",
   "execution_count": 14,
   "metadata": {},
   "outputs": [
    {
     "data": {
      "text/plain": [
       "['',\n",
       " '[UNK]',\n",
       " '[START]',\n",
       " '[END]',\n",
       " '.',\n",
       " 'que',\n",
       " 'de',\n",
       " 'el',\n",
       " 'a',\n",
       " 'no',\n",
       " 'tom',\n",
       " 'la',\n",
       " '?',\n",
       " '¿',\n",
       " 'en']"
      ]
     },
     "execution_count": 14,
     "metadata": {},
     "output_type": "execute_result"
    }
   ],
   "source": [
    "#output check\n",
    "context_text_preprocessor.get_vocabulary()[:15]"
   ]
  },
  {
   "cell_type": "code",
   "execution_count": 15,
   "metadata": {},
   "outputs": [],
   "source": [
    "target_text_preprocessor = tf.keras.layers.TextVectorization(\n",
    "    standardize=tf_lower_and_split_punct,\n",
    "    max_tokens=max_vocab_size,\n",
    "    ragged=True\n",
    ")\n",
    "\n"
   ]
  },
  {
   "cell_type": "code",
   "execution_count": 16,
   "metadata": {},
   "outputs": [],
   "source": [
    "target_text_preprocessor.adapt(train_set_raw.map(lambda context, target: target))"
   ]
  },
  {
   "cell_type": "code",
   "execution_count": 17,
   "metadata": {},
   "outputs": [
    {
     "data": {
      "text/plain": [
       "['', '[UNK]', '[START]', '[END]', '.', 'the', 'i', 'to', 'you', 'tom']"
      ]
     },
     "execution_count": 17,
     "metadata": {},
     "output_type": "execute_result"
    }
   ],
   "source": [
    "#output check\n",
    "target_text_preprocessor.get_vocabulary()[:10]"
   ]
  },
  {
   "cell_type": "code",
   "execution_count": 18,
   "metadata": {},
   "outputs": [
    {
     "name": "stdout",
     "output_type": "stream",
     "text": [
      "<tf.RaggedTensor [[2, 28, 263, 25, 83, 7, 363, 181, 4, 3], [2, 39, 153, 5, 18, 1, 4, 3],\n",
      " [2, 11, 575, 15, 507, 31, 25, 420, 4, 3]]>\n"
     ]
    }
   ],
   "source": [
    "example_tokens = context_text_preprocessor(context_strings)\n",
    "print(example_tokens[ : 3])"
   ]
  },
  {
   "cell_type": "code",
   "execution_count": 19,
   "metadata": {},
   "outputs": [
    {
     "name": "stdout",
     "output_type": "stream",
     "text": [
      "[START] ella dejo su trabajo el mes pasado . [END]\n",
      "[START] she quit her job last month . [END]\n"
     ]
    }
   ],
   "source": [
    "#convert token value back to words\n",
    "\n",
    "context_vocab = np.array(context_text_preprocessor.get_vocabulary())\n",
    "tokens = context_vocab[example_tokens[0].numpy()]\n",
    "print(' '.join(tokens))\n",
    "\n",
    "\n",
    "target_vocab = np.array(target_text_preprocessor.get_vocabulary())\n",
    "tk2 = target_vocab[target_text_preprocessor(target_strings)[0].numpy()]\n",
    "print(' '.join(tk2))"
   ]
  },
  {
   "cell_type": "code",
   "execution_count": 20,
   "metadata": {},
   "outputs": [
    {
     "data": {
      "text/plain": [
       "Text(0.5, 1.0, 'Mask')"
      ]
     },
     "execution_count": 20,
     "metadata": {},
     "output_type": "execute_result"
    },
    {
     "data": {
      "image/png": "[encoded data removed]",
      "text/plain": [
       "<Figure size 640x480 with 2 Axes>"
      ]
     },
     "metadata": {},
     "output_type": "display_data"
    }
   ],
   "source": [
    "# visualization\n",
    "\n",
    "plt.subplot(1, 2, 1)\n",
    "plt.pcolormesh(example_tokens.to_tensor())\n",
    "plt.title('Token IDs')\n",
    "\n",
    "plt.subplot(1, 2, 2)\n",
    "plt.pcolormesh(example_tokens.to_tensor() != 0)\n",
    "plt.title('Mask')"
   ]
  },
  {
   "cell_type": "code",
   "execution_count": 21,
   "metadata": {},
   "outputs": [],
   "source": [
    "def process_text(context, target):\n",
    "    context = context_text_preprocessor(context).to_tensor()\n",
    "    target = target_text_preprocessor(target)\n",
    "    targ_in = target[:,:-1].to_tensor()\n",
    "    targ_out = target[:,1:].to_tensor()\n",
    "    return (context, targ_in), targ_out\n",
    "\n",
    "train_ds = train_set_raw.map(process_text, tf.data.AUTOTUNE)\n",
    "val_ds = val_set_raw.map(process_text, tf.data.AUTOTUNE)"
   ]
  },
  {
   "cell_type": "code",
   "execution_count": 22,
   "metadata": {},
   "outputs": [
    {
     "name": "stdout",
     "output_type": "stream",
     "text": [
      "[  2  18 720   4   3   0   0   0   0   0]\n",
      "\n",
      "[  2   6 628   4   0   0   0   0   0   0]\n",
      "[  6 628   4   3   0   0   0   0   0   0]\n",
      "[   2   13    5  234 3545    8 1143   12    3    0]\n",
      "\n",
      "[  2  29 281   8  28  76   7 105  11   0]\n",
      "[ 29 281   8  28  76   7 105  11   3   0]\n",
      "[   2   48    5 3207    4    3    0    0    0    0]\n",
      "\n",
      "[  2   6  37   8   7 223   4   0   0   0]\n",
      "[  6  37   8   7 223   4   3   0   0   0]\n",
      "[   2   17    1   16    1    1   14 2347   37    1]\n",
      "\n",
      "[   2   72    1 4534   18 3845   14 2202   15    5]\n",
      "[  72    1 4534   18 3845   14 2202   15    5    1]\n",
      "[   2   39   67  522    6 3319    4    3    0    0]\n",
      "\n",
      "[  2   6  18 286   7  92  47   4   0   0]\n",
      "[  6  18 286   7  92  47   4   3   0   0]\n"
     ]
    }
   ],
   "source": [
    "for (ex_context_tok, ex_tar_in), ex_tar_out in train_ds.take(5):\n",
    "  print(ex_context_tok[0, :10].numpy()) \n",
    "  print()\n",
    "  print(ex_tar_in[0, :10].numpy()) \n",
    "  print(ex_tar_out[0, :10].numpy())"
   ]
  },
  {
   "cell_type": "code",
   "execution_count": null,
   "metadata": {},
   "outputs": [],
   "source": []
  },
  {
   "cell_type": "markdown",
   "metadata": {},
   "source": [
    "# ENCODER"
   ]
  },
  {
   "cell_type": "code",
   "execution_count": 23,
   "metadata": {},
   "outputs": [],
   "source": [
    "units = 256"
   ]
  },
  {
   "cell_type": "code",
   "execution_count": 24,
   "metadata": {},
   "outputs": [],
   "source": [
    "class Encoder(tf.keras.layers.Layer):\n",
    "    def __init__(self, text_preprocessor, units):\n",
    "        super(Encoder, self).__init__()\n",
    "        self.text_preprocessor = text_preprocessor\n",
    "        self.vocab_size = text_preprocessor.vocabulary_size()\n",
    "        self.units = units\n",
    "    \n",
    "\n",
    "        # The embedding layer converts tokens to vectors\n",
    "        self.embedding = tf.keras.layers.Embedding(self.vocab_size, units, mask_zero=True)\n",
    "\n",
    "        # The RNN layer processes those vectors sequentially.\n",
    "        self.rnn = tf.keras.layers.Bidirectional(\n",
    "            layer=tf.keras.layers.GRU(\n",
    "                units,\n",
    "                return_sequences=True,\n",
    "                recurrent_initializer='glorot_uniform'\n",
    "            )\n",
    "        )\n",
    "\n",
    "\n",
    "    def call(self, x):\n",
    "        shape_checker = ShapeChecker()\n",
    "        shape_checker(x, 'batch s')\n",
    "\n",
    "        # 2. The embedding layer looks up the embedding vector for each token.\n",
    "        x = self.embedding(x)\n",
    "        shape_checker(x, 'batch s units embedding')\n",
    "\n",
    "        # 3. The GRU processes the sequence of embeddings.\n",
    "        x = self.rnn(x)\n",
    "        shape_checker(x, 'batch s units rnn')\n",
    "\n",
    "        # 4. Returns the new sequence of embeddings.\n",
    "        return x\n",
    "\n",
    "    def convert_input(self, texts):\n",
    "        texts = tf.convert_to_tensor(texts)\n",
    "\n",
    "        if len(texts.shape) == 0:\n",
    "            texts = tf.convert_to_tensor(texts)[tf.newaxis]\n",
    "        context = self.text_preprocessor(texts).to_tensor()\n",
    "        context = self(context)\n",
    "        return context"
   ]
  },
  {
   "cell_type": "code",
   "execution_count": null,
   "metadata": {},
   "outputs": [],
   "source": []
  }
 ],
 "metadata": {
  "kernelspec": {
   "display_name": "Python 3.9.13 ('tf')",
   "language": "python",
   "name": "python3"
  },
  "language_info": {
   "codemirror_mode": {
    "name": "ipython",
    "version": 3
   },
   "file_extension": ".py",
   "mimetype": "text/x-python",
   "name": "python",
   "nbconvert_exporter": "python",
   "pygments_lexer": "ipython3",
   "version": "3.9.13"
  },
  "orig_nbformat": 4,
  "vscode": {
   "interpreter": {
    "hash": "ec537239728ac8893588346e27b155988a5267d59b4461281b8b4e768c153fd9"
   }
  }
 },
 "nbformat": 4,
 "nbformat_minor": 2
}
